{
  "nbformat": 4,
  "nbformat_minor": 5,
  "metadata": {
    "kernelspec": {
      "display_name": "Python 3",
      "language": "python",
      "name": "python3"
    },
    "language_info": {
      "codemirror_mode": {
        "name": "ipython",
        "version": 3
      },
      "file_extension": ".py",
      "mimetype": "text/x-python",
      "name": "python",
      "nbconvert_exporter": "python",
      "pygments_lexer": "ipython3",
      "version": "3.8.5"
    },
    "colab": {
      "name": "manipulacao_de_dados_codigo_base.ipynb",
      "provenance": [],
      "toc_visible": true
    }
  },
  "cells": [
    {
      "cell_type": "markdown",
      "metadata": {
        "id": "changing-combine"
      },
      "source": [
        "## **Pandas Essencial**\n",
        "**Prof. Dr. Samuel Martins (@hisamuka @xavecoding)** <br/>\n",
        "xavecoding: https://youtube.com/c/xavecoding <br/>\n",
        "\n",
        "Neste tutorial, vamos aprender o essencial da biblioteca _Pandas_ para manipulação de dados.<br/><br/>\n",
        "\n",
        "<a rel=\"license\" href=\"http://creativecommons.org/licenses/by-nc-sa/4.0/\"><img alt=\"Creative Commons License\" style=\"border-width:0\" src=\"https://i.creativecommons.org/l/by-nc-sa/4.0/88x31.png\" /></a><br />This work is licensed under a <a rel=\"license\" href=\"http://creativecommons.org/licenses/by-nc-sa/4.0/\">Creative Commons Attribution-NonCommercial-ShareAlike 4.0 International License</a>."
      ],
      "id": "changing-combine"
    },
    {
      "cell_type": "markdown",
      "metadata": {
        "id": "innovative-honolulu"
      },
      "source": [
        "### Pacotes usados neste Notebook"
      ],
      "id": "innovative-honolulu"
    },
    {
      "cell_type": "code",
      "metadata": {
        "id": "backed-twenty"
      },
      "source": [
        "# pacotes usados neste notebook\n",
        "import pandas as pd"
      ],
      "id": "backed-twenty",
      "execution_count": 1,
      "outputs": []
    },
    {
      "cell_type": "markdown",
      "metadata": {
        "id": "tracked-shakespeare"
      },
      "source": [
        "<h1>Manipulação de Dados com Pandas</h1><hr/>"
      ],
      "id": "tracked-shakespeare"
    },
    {
      "cell_type": "markdown",
      "metadata": {
        "id": "federal-vinyl"
      },
      "source": [
        "<h2>1. Manipulação Básica de Datasets</h2>\n",
        "<hr/>"
      ],
      "id": "federal-vinyl"
    },
    {
      "cell_type": "markdown",
      "metadata": {
        "id": "optimum-season"
      },
      "source": [
        "**Dataset**: Gas Prices in Brazil: https://www.kaggle.com/matheusfreitag/gas-prices-in-brazil <br/>\n",
        "\n",
        "Este dataset contém os **registros dos preços médios semanais dos combustíveis do Brasil entre os anos de 2004 e 2019**. <br/>\n",
        "Cada *amostra (registro/linha)* consiste em um registro de preço aferido para um dado tipo de combustível em uma dada localidade do Brasil. <br/>\n",
        "Alguns dos principais *atributos* (colunas) do dataset são: 'ESTADO', 'PRODUTO', 'NÚMERO DE POSTOS PESQUISADOS', 'PREÇO MÉDIO REVENDA'.\n",
        "\n",
        "\n",
        "\\* O arquivo disponibilizado no Kaggle está no formato *tsv*. Embora o _pandas_ consiga abrí-lo normalmente, convertemos tal arquivo para o formato *CSV*, que é um dos formatos mais utilizados, e mudamos seu separado para ';' apenas para mostrar algumas opções da função de carregamento."
      ],
      "id": "optimum-season"
    },
    {
      "cell_type": "markdown",
      "metadata": {
        "id": "aggregate-provision"
      },
      "source": [
        "### 1.1. Importando o Dataset\n",
        "Para carregar um dataset no formato csv, basta utilizar a função `read_csv` do pandas. Por padrão, ela considera _','_ como separador."
      ],
      "id": "aggregate-provision"
    },
    {
      "cell_type": "code",
      "metadata": {
        "id": "medieval-strain"
      },
      "source": [
        "ds = pd.read_csv('datasets/GasPricesinBrazil_2004-2019.csv')"
      ],
      "id": "medieval-strain",
      "execution_count": 2,
      "outputs": []
    },
    {
      "cell_type": "code",
      "metadata": {
        "id": "sorted-martin",
        "outputId": "0a6cb5d8-8ea0-473b-c6a8-e3b71b62c0a8",
        "colab": {
          "base_uri": "https://localhost:8080/",
          "height": 440
        }
      },
      "source": [
        "ds"
      ],
      "id": "sorted-martin",
      "execution_count": 4,
      "outputs": [
        {
          "output_type": "execute_result",
          "data": {
            "text/html": [
              "<div>\n",
              "<style scoped>\n",
              "    .dataframe tbody tr th:only-of-type {\n",
              "        vertical-align: middle;\n",
              "    }\n",
              "\n",
              "    .dataframe tbody tr th {\n",
              "        vertical-align: top;\n",
              "    }\n",
              "\n",
              "    .dataframe thead th {\n",
              "        text-align: right;\n",
              "    }\n",
              "</style>\n",
              "<table border=\"1\" class=\"dataframe\">\n",
              "  <thead>\n",
              "    <tr style=\"text-align: right;\">\n",
              "      <th></th>\n",
              "      <th>Unnamed: 0;DATA INICIAL;DATA FINAL;REGIÃO;ESTADO;PRODUTO;NÚMERO DE POSTOS PESQUISADOS;UNIDADE DE MEDIDA;PREÇO MÉDIO REVENDA;DESVIO PADRÃO REVENDA;PREÇO MÍNIMO REVENDA;PREÇO MÁXIMO REVENDA;MARGEM MÉDIA REVENDA;COEF DE VARIAÇÃO REVENDA;PREÇO MÉDIO DISTRIBUIÇÃO;DESVIO PADRÃO DISTRIBUIÇÃO;PREÇO MÍNIMO DISTRIBUIÇÃO;PREÇO MÁXIMO DISTRIBUIÇÃO;COEF DE VARIAÇÃO DISTRIBUIÇÃO;MÊS;ANO</th>\n",
              "    </tr>\n",
              "  </thead>\n",
              "  <tbody>\n",
              "    <tr>\n",
              "      <th>0</th>\n",
              "      <td>0;2004-05-09;2004-05-15;CENTRO OESTE;DISTRITO ...</td>\n",
              "    </tr>\n",
              "    <tr>\n",
              "      <th>1</th>\n",
              "      <td>1;2004-05-09;2004-05-15;CENTRO OESTE;GOIAS;ETA...</td>\n",
              "    </tr>\n",
              "    <tr>\n",
              "      <th>2</th>\n",
              "      <td>2;2004-05-09;2004-05-15;CENTRO OESTE;MATO GROS...</td>\n",
              "    </tr>\n",
              "    <tr>\n",
              "      <th>3</th>\n",
              "      <td>3;2004-05-09;2004-05-15;CENTRO OESTE;MATO GROS...</td>\n",
              "    </tr>\n",
              "    <tr>\n",
              "      <th>4</th>\n",
              "      <td>4;2004-05-09;2004-05-15;NORDESTE;ALAGOAS;ETANO...</td>\n",
              "    </tr>\n",
              "    <tr>\n",
              "      <th>...</th>\n",
              "      <td>...</td>\n",
              "    </tr>\n",
              "    <tr>\n",
              "      <th>49244</th>\n",
              "      <td>49244;2008-06-08;2008-06-14;CENTRO OESTE;GOIAS...</td>\n",
              "    </tr>\n",
              "    <tr>\n",
              "      <th>49245</th>\n",
              "      <td>49245;2008-06-08;2008-06-14;CENTRO OESTE;MATO ...</td>\n",
              "    </tr>\n",
              "    <tr>\n",
              "      <th>49246</th>\n",
              "      <td>49246;2008-06-08;2008-06-14;CENTRO OESTE;MATO ...</td>\n",
              "    </tr>\n",
              "    <tr>\n",
              "      <th>49247</th>\n",
              "      <td>49247;2008-06-08;2008-06-14;NORDESTE;ALAGOAS;Ó...</td>\n",
              "    </tr>\n",
              "    <tr>\n",
              "      <th>49248</th>\n",
              "      <td>49248;2008-06-08;2008-06-14;NORDESTE;BAHIA;ÓLE...</td>\n",
              "    </tr>\n",
              "  </tbody>\n",
              "</table>\n",
              "<p>49249 rows × 1 columns</p>\n",
              "</div>"
            ],
            "text/plain": [
              "      Unnamed: 0;DATA INICIAL;DATA FINAL;REGIÃO;ESTADO;PRODUTO;NÚMERO DE POSTOS PESQUISADOS;UNIDADE DE MEDIDA;PREÇO MÉDIO REVENDA;DESVIO PADRÃO REVENDA;PREÇO MÍNIMO REVENDA;PREÇO MÁXIMO REVENDA;MARGEM MÉDIA REVENDA;COEF DE VARIAÇÃO REVENDA;PREÇO MÉDIO DISTRIBUIÇÃO;DESVIO PADRÃO DISTRIBUIÇÃO;PREÇO MÍNIMO DISTRIBUIÇÃO;PREÇO MÁXIMO DISTRIBUIÇÃO;COEF DE VARIAÇÃO DISTRIBUIÇÃO;MÊS;ANO\n",
              "0      0;2004-05-09;2004-05-15;CENTRO OESTE;DISTRITO ...                                                                                                                                                                                                                                                                                                                                     \n",
              "1      1;2004-05-09;2004-05-15;CENTRO OESTE;GOIAS;ETA...                                                                                                                                                                                                                                                                                                                                     \n",
              "2      2;2004-05-09;2004-05-15;CENTRO OESTE;MATO GROS...                                                                                                                                                                                                                                                                                                                                     \n",
              "3      3;2004-05-09;2004-05-15;CENTRO OESTE;MATO GROS...                                                                                                                                                                                                                                                                                                                                     \n",
              "4      4;2004-05-09;2004-05-15;NORDESTE;ALAGOAS;ETANO...                                                                                                                                                                                                                                                                                                                                     \n",
              "...                                                  ...                                                                                                                                                                                                                                                                                                                                     \n",
              "49244  49244;2008-06-08;2008-06-14;CENTRO OESTE;GOIAS...                                                                                                                                                                                                                                                                                                                                     \n",
              "49245  49245;2008-06-08;2008-06-14;CENTRO OESTE;MATO ...                                                                                                                                                                                                                                                                                                                                     \n",
              "49246  49246;2008-06-08;2008-06-14;CENTRO OESTE;MATO ...                                                                                                                                                                                                                                                                                                                                     \n",
              "49247  49247;2008-06-08;2008-06-14;NORDESTE;ALAGOAS;Ó...                                                                                                                                                                                                                                                                                                                                     \n",
              "49248  49248;2008-06-08;2008-06-14;NORDESTE;BAHIA;ÓLE...                                                                                                                                                                                                                                                                                                                                     \n",
              "\n",
              "[49249 rows x 1 columns]"
            ]
          },
          "metadata": {
            "tags": []
          },
          "execution_count": 4
        }
      ]
    },
    {
      "cell_type": "markdown",
      "metadata": {
        "id": "accurate-pension"
      },
      "source": [
        "O dataset não foi carregado corretamente pois o separador utilizado seu arquivo CSV era ';' e não a ','. <br/>\n",
        "Vamos então carregá-lo corretamente:"
      ],
      "id": "accurate-pension"
    },
    {
      "cell_type": "code",
      "metadata": {
        "id": "daily-press"
      },
      "source": [
        "ds = pd.read_csv('datasets/GasPricesinBrazil_2004-2019.csv', sep=';')"
      ],
      "id": "daily-press",
      "execution_count": 6,
      "outputs": []
    },
    {
      "cell_type": "code",
      "metadata": {
        "id": "quiet-fusion",
        "outputId": "694d5a61-8d29-4db8-8e2e-f4e8d0645771",
        "colab": {
          "base_uri": "https://localhost:8080/",
          "height": 660
        }
      },
      "source": [
        ""
      ],
      "id": "quiet-fusion",
      "execution_count": 7,
      "outputs": [
        {
          "output_type": "execute_result",
          "data": {
            "text/html": [
              "<div>\n",
              "<style scoped>\n",
              "    .dataframe tbody tr th:only-of-type {\n",
              "        vertical-align: middle;\n",
              "    }\n",
              "\n",
              "    .dataframe tbody tr th {\n",
              "        vertical-align: top;\n",
              "    }\n",
              "\n",
              "    .dataframe thead th {\n",
              "        text-align: right;\n",
              "    }\n",
              "</style>\n",
              "<table border=\"1\" class=\"dataframe\">\n",
              "  <thead>\n",
              "    <tr style=\"text-align: right;\">\n",
              "      <th></th>\n",
              "      <th>Unnamed: 0</th>\n",
              "      <th>DATA INICIAL</th>\n",
              "      <th>DATA FINAL</th>\n",
              "      <th>REGIÃO</th>\n",
              "      <th>ESTADO</th>\n",
              "      <th>PRODUTO</th>\n",
              "      <th>NÚMERO DE POSTOS PESQUISADOS</th>\n",
              "      <th>UNIDADE DE MEDIDA</th>\n",
              "      <th>PREÇO MÉDIO REVENDA</th>\n",
              "      <th>DESVIO PADRÃO REVENDA</th>\n",
              "      <th>PREÇO MÍNIMO REVENDA</th>\n",
              "      <th>PREÇO MÁXIMO REVENDA</th>\n",
              "      <th>MARGEM MÉDIA REVENDA</th>\n",
              "      <th>COEF DE VARIAÇÃO REVENDA</th>\n",
              "      <th>PREÇO MÉDIO DISTRIBUIÇÃO</th>\n",
              "      <th>DESVIO PADRÃO DISTRIBUIÇÃO</th>\n",
              "      <th>PREÇO MÍNIMO DISTRIBUIÇÃO</th>\n",
              "      <th>PREÇO MÁXIMO DISTRIBUIÇÃO</th>\n",
              "      <th>COEF DE VARIAÇÃO DISTRIBUIÇÃO</th>\n",
              "      <th>MÊS</th>\n",
              "      <th>ANO</th>\n",
              "    </tr>\n",
              "  </thead>\n",
              "  <tbody>\n",
              "    <tr>\n",
              "      <th>0</th>\n",
              "      <td>0</td>\n",
              "      <td>2004-05-09</td>\n",
              "      <td>2004-05-15</td>\n",
              "      <td>CENTRO OESTE</td>\n",
              "      <td>DISTRITO FEDERAL</td>\n",
              "      <td>ETANOL HIDRATADO</td>\n",
              "      <td>127</td>\n",
              "      <td>R$/l</td>\n",
              "      <td>1.288</td>\n",
              "      <td>0.016</td>\n",
              "      <td>1.190</td>\n",
              "      <td>1.350</td>\n",
              "      <td>0.463</td>\n",
              "      <td>0.012</td>\n",
              "      <td>0.825</td>\n",
              "      <td>0.11</td>\n",
              "      <td>0.4201</td>\n",
              "      <td>0.9666</td>\n",
              "      <td>0.133</td>\n",
              "      <td>5.0</td>\n",
              "      <td>2004.0</td>\n",
              "    </tr>\n",
              "    <tr>\n",
              "      <th>1</th>\n",
              "      <td>1</td>\n",
              "      <td>2004-05-09</td>\n",
              "      <td>2004-05-15</td>\n",
              "      <td>CENTRO OESTE</td>\n",
              "      <td>GOIAS</td>\n",
              "      <td>ETANOL HIDRATADO</td>\n",
              "      <td>387</td>\n",
              "      <td>R$/l</td>\n",
              "      <td>1.162</td>\n",
              "      <td>0.114</td>\n",
              "      <td>0.890</td>\n",
              "      <td>1.449</td>\n",
              "      <td>0.399</td>\n",
              "      <td>0.098</td>\n",
              "      <td>0.763</td>\n",
              "      <td>0.088</td>\n",
              "      <td>0.5013</td>\n",
              "      <td>1.05</td>\n",
              "      <td>0.115</td>\n",
              "      <td>5.0</td>\n",
              "      <td>2004.0</td>\n",
              "    </tr>\n",
              "    <tr>\n",
              "      <th>2</th>\n",
              "      <td>2</td>\n",
              "      <td>2004-05-09</td>\n",
              "      <td>2004-05-15</td>\n",
              "      <td>CENTRO OESTE</td>\n",
              "      <td>MATO GROSSO</td>\n",
              "      <td>ETANOL HIDRATADO</td>\n",
              "      <td>192</td>\n",
              "      <td>R$/l</td>\n",
              "      <td>1.389</td>\n",
              "      <td>0.097</td>\n",
              "      <td>1.180</td>\n",
              "      <td>1.760</td>\n",
              "      <td>0.419</td>\n",
              "      <td>0.070</td>\n",
              "      <td>0.97</td>\n",
              "      <td>0.095</td>\n",
              "      <td>0.5614</td>\n",
              "      <td>1.161</td>\n",
              "      <td>0.098</td>\n",
              "      <td>5.0</td>\n",
              "      <td>2004.0</td>\n",
              "    </tr>\n",
              "    <tr>\n",
              "      <th>3</th>\n",
              "      <td>3</td>\n",
              "      <td>2004-05-09</td>\n",
              "      <td>2004-05-15</td>\n",
              "      <td>CENTRO OESTE</td>\n",
              "      <td>MATO GROSSO DO SUL</td>\n",
              "      <td>ETANOL HIDRATADO</td>\n",
              "      <td>162</td>\n",
              "      <td>R$/l</td>\n",
              "      <td>1.262</td>\n",
              "      <td>0.070</td>\n",
              "      <td>1.090</td>\n",
              "      <td>1.509</td>\n",
              "      <td>0.432</td>\n",
              "      <td>0.055</td>\n",
              "      <td>0.83</td>\n",
              "      <td>0.119</td>\n",
              "      <td>0.5991</td>\n",
              "      <td>1.22242</td>\n",
              "      <td>0.143</td>\n",
              "      <td>5.0</td>\n",
              "      <td>2004.0</td>\n",
              "    </tr>\n",
              "    <tr>\n",
              "      <th>4</th>\n",
              "      <td>4</td>\n",
              "      <td>2004-05-09</td>\n",
              "      <td>2004-05-15</td>\n",
              "      <td>NORDESTE</td>\n",
              "      <td>ALAGOAS</td>\n",
              "      <td>ETANOL HIDRATADO</td>\n",
              "      <td>103</td>\n",
              "      <td>R$/l</td>\n",
              "      <td>1.181</td>\n",
              "      <td>0.078</td>\n",
              "      <td>1.050</td>\n",
              "      <td>1.400</td>\n",
              "      <td>0.24</td>\n",
              "      <td>0.066</td>\n",
              "      <td>0.941</td>\n",
              "      <td>0.077</td>\n",
              "      <td>0.7441</td>\n",
              "      <td>1.0317</td>\n",
              "      <td>0.082</td>\n",
              "      <td>5.0</td>\n",
              "      <td>2004.0</td>\n",
              "    </tr>\n",
              "    <tr>\n",
              "      <th>...</th>\n",
              "      <td>...</td>\n",
              "      <td>...</td>\n",
              "      <td>...</td>\n",
              "      <td>...</td>\n",
              "      <td>...</td>\n",
              "      <td>...</td>\n",
              "      <td>...</td>\n",
              "      <td>...</td>\n",
              "      <td>...</td>\n",
              "      <td>...</td>\n",
              "      <td>...</td>\n",
              "      <td>...</td>\n",
              "      <td>...</td>\n",
              "      <td>...</td>\n",
              "      <td>...</td>\n",
              "      <td>...</td>\n",
              "      <td>...</td>\n",
              "      <td>...</td>\n",
              "      <td>...</td>\n",
              "      <td>...</td>\n",
              "      <td>...</td>\n",
              "    </tr>\n",
              "    <tr>\n",
              "      <th>49244</th>\n",
              "      <td>49244</td>\n",
              "      <td>2008-06-08</td>\n",
              "      <td>2008-06-14</td>\n",
              "      <td>CENTRO OESTE</td>\n",
              "      <td>GOIAS</td>\n",
              "      <td>ÓLEO DIESEL</td>\n",
              "      <td>250</td>\n",
              "      <td>R$/l</td>\n",
              "      <td>2.018</td>\n",
              "      <td>0.063</td>\n",
              "      <td>1.859</td>\n",
              "      <td>2.170</td>\n",
              "      <td>0.181</td>\n",
              "      <td>0.031</td>\n",
              "      <td>1.837</td>\n",
              "      <td>0.033</td>\n",
              "      <td>1.675</td>\n",
              "      <td>1.935</td>\n",
              "      <td>0.018</td>\n",
              "      <td>6.0</td>\n",
              "      <td>2008.0</td>\n",
              "    </tr>\n",
              "    <tr>\n",
              "      <th>49245</th>\n",
              "      <td>49245</td>\n",
              "      <td>2008-06-08</td>\n",
              "      <td>2008-06-14</td>\n",
              "      <td>CENTRO OESTE</td>\n",
              "      <td>MATO GROSSO</td>\n",
              "      <td>ÓLEO DIESEL</td>\n",
              "      <td>142</td>\n",
              "      <td>R$/l</td>\n",
              "      <td>2.291</td>\n",
              "      <td>0.083</td>\n",
              "      <td>2.190</td>\n",
              "      <td>2.560</td>\n",
              "      <td>0.231</td>\n",
              "      <td>0.036</td>\n",
              "      <td>2.06</td>\n",
              "      <td>0.055</td>\n",
              "      <td>1.8959</td>\n",
              "      <td>2.225</td>\n",
              "      <td>0.027</td>\n",
              "      <td>6.0</td>\n",
              "      <td>2008.0</td>\n",
              "    </tr>\n",
              "    <tr>\n",
              "      <th>49246</th>\n",
              "      <td>49246</td>\n",
              "      <td>2008-06-08</td>\n",
              "      <td>2008-06-14</td>\n",
              "      <td>CENTRO OESTE</td>\n",
              "      <td>MATO GROSSO DO SUL</td>\n",
              "      <td>ÓLEO DIESEL</td>\n",
              "      <td>116</td>\n",
              "      <td>R$/l</td>\n",
              "      <td>2.228</td>\n",
              "      <td>0.056</td>\n",
              "      <td>2.138</td>\n",
              "      <td>2.330</td>\n",
              "      <td>0.231</td>\n",
              "      <td>0.025</td>\n",
              "      <td>1.997</td>\n",
              "      <td>0.059</td>\n",
              "      <td>1.8724</td>\n",
              "      <td>2.1321</td>\n",
              "      <td>0.03</td>\n",
              "      <td>6.0</td>\n",
              "      <td>2008.0</td>\n",
              "    </tr>\n",
              "    <tr>\n",
              "      <th>49247</th>\n",
              "      <td>49247</td>\n",
              "      <td>2008-06-08</td>\n",
              "      <td>2008-06-14</td>\n",
              "      <td>NORDESTE</td>\n",
              "      <td>ALAGOAS</td>\n",
              "      <td>ÓLEO DIESEL</td>\n",
              "      <td>92</td>\n",
              "      <td>R$/l</td>\n",
              "      <td>2.021</td>\n",
              "      <td>0.042</td>\n",
              "      <td>1.850</td>\n",
              "      <td>2.099</td>\n",
              "      <td>0.17</td>\n",
              "      <td>0.021</td>\n",
              "      <td>1.851</td>\n",
              "      <td>0.03</td>\n",
              "      <td>1.7998</td>\n",
              "      <td>1.9101</td>\n",
              "      <td>0.016</td>\n",
              "      <td>6.0</td>\n",
              "      <td>2008.0</td>\n",
              "    </tr>\n",
              "    <tr>\n",
              "      <th>49248</th>\n",
              "      <td>49248</td>\n",
              "      <td>2008-06-08</td>\n",
              "      <td>2008-06-14</td>\n",
              "      <td>NORDESTE</td>\n",
              "      <td>BAHIA</td>\n",
              "      <td>ÓLEO DIESEL</td>\n",
              "      <td>379</td>\n",
              "      <td>R</td>\n",
              "      <td>NaN</td>\n",
              "      <td>NaN</td>\n",
              "      <td>NaN</td>\n",
              "      <td>NaN</td>\n",
              "      <td>NaN</td>\n",
              "      <td>NaN</td>\n",
              "      <td>NaN</td>\n",
              "      <td>NaN</td>\n",
              "      <td>NaN</td>\n",
              "      <td>NaN</td>\n",
              "      <td>NaN</td>\n",
              "      <td>NaN</td>\n",
              "      <td>NaN</td>\n",
              "    </tr>\n",
              "  </tbody>\n",
              "</table>\n",
              "<p>49249 rows × 21 columns</p>\n",
              "</div>"
            ],
            "text/plain": [
              "       Unnamed: 0 DATA INICIAL  ...  MÊS     ANO\n",
              "0               0   2004-05-09  ...  5.0  2004.0\n",
              "1               1   2004-05-09  ...  5.0  2004.0\n",
              "2               2   2004-05-09  ...  5.0  2004.0\n",
              "3               3   2004-05-09  ...  5.0  2004.0\n",
              "4               4   2004-05-09  ...  5.0  2004.0\n",
              "...           ...          ...  ...  ...     ...\n",
              "49244       49244   2008-06-08  ...  6.0  2008.0\n",
              "49245       49245   2008-06-08  ...  6.0  2008.0\n",
              "49246       49246   2008-06-08  ...  6.0  2008.0\n",
              "49247       49247   2008-06-08  ...  6.0  2008.0\n",
              "49248       49248   2008-06-08  ...  NaN     NaN\n",
              "\n",
              "[49249 rows x 21 columns]"
            ]
          },
          "metadata": {
            "tags": []
          },
          "execution_count": 7
        }
      ]
    },
    {
      "cell_type": "markdown",
      "metadata": {
        "id": "greater-harvest"
      },
      "source": [
        "### 1.2. Exibindo as primeiras linhas do Dataset\n",
        "A função `.head()` exibe as 5 primeiras linhas do dataset/tabela/Data Frame."
      ],
      "id": "greater-harvest"
    },
    {
      "cell_type": "code",
      "metadata": {
        "id": "continued-isaac",
        "outputId": "abfdac96-7ba1-480a-d3bd-64442bc91109",
        "colab": {
          "base_uri": "https://localhost:8080/",
          "height": 351
        }
      },
      "source": [
        "ds.head()"
      ],
      "id": "continued-isaac",
      "execution_count": 8,
      "outputs": [
        {
          "output_type": "execute_result",
          "data": {
            "text/html": [
              "<div>\n",
              "<style scoped>\n",
              "    .dataframe tbody tr th:only-of-type {\n",
              "        vertical-align: middle;\n",
              "    }\n",
              "\n",
              "    .dataframe tbody tr th {\n",
              "        vertical-align: top;\n",
              "    }\n",
              "\n",
              "    .dataframe thead th {\n",
              "        text-align: right;\n",
              "    }\n",
              "</style>\n",
              "<table border=\"1\" class=\"dataframe\">\n",
              "  <thead>\n",
              "    <tr style=\"text-align: right;\">\n",
              "      <th></th>\n",
              "      <th>Unnamed: 0</th>\n",
              "      <th>DATA INICIAL</th>\n",
              "      <th>DATA FINAL</th>\n",
              "      <th>REGIÃO</th>\n",
              "      <th>ESTADO</th>\n",
              "      <th>PRODUTO</th>\n",
              "      <th>NÚMERO DE POSTOS PESQUISADOS</th>\n",
              "      <th>UNIDADE DE MEDIDA</th>\n",
              "      <th>PREÇO MÉDIO REVENDA</th>\n",
              "      <th>DESVIO PADRÃO REVENDA</th>\n",
              "      <th>PREÇO MÍNIMO REVENDA</th>\n",
              "      <th>PREÇO MÁXIMO REVENDA</th>\n",
              "      <th>MARGEM MÉDIA REVENDA</th>\n",
              "      <th>COEF DE VARIAÇÃO REVENDA</th>\n",
              "      <th>PREÇO MÉDIO DISTRIBUIÇÃO</th>\n",
              "      <th>DESVIO PADRÃO DISTRIBUIÇÃO</th>\n",
              "      <th>PREÇO MÍNIMO DISTRIBUIÇÃO</th>\n",
              "      <th>PREÇO MÁXIMO DISTRIBUIÇÃO</th>\n",
              "      <th>COEF DE VARIAÇÃO DISTRIBUIÇÃO</th>\n",
              "      <th>MÊS</th>\n",
              "      <th>ANO</th>\n",
              "    </tr>\n",
              "  </thead>\n",
              "  <tbody>\n",
              "    <tr>\n",
              "      <th>0</th>\n",
              "      <td>0</td>\n",
              "      <td>2004-05-09</td>\n",
              "      <td>2004-05-15</td>\n",
              "      <td>CENTRO OESTE</td>\n",
              "      <td>DISTRITO FEDERAL</td>\n",
              "      <td>ETANOL HIDRATADO</td>\n",
              "      <td>127</td>\n",
              "      <td>R$/l</td>\n",
              "      <td>1.288</td>\n",
              "      <td>0.016</td>\n",
              "      <td>1.19</td>\n",
              "      <td>1.350</td>\n",
              "      <td>0.463</td>\n",
              "      <td>0.012</td>\n",
              "      <td>0.825</td>\n",
              "      <td>0.11</td>\n",
              "      <td>0.4201</td>\n",
              "      <td>0.9666</td>\n",
              "      <td>0.133</td>\n",
              "      <td>5.0</td>\n",
              "      <td>2004.0</td>\n",
              "    </tr>\n",
              "    <tr>\n",
              "      <th>1</th>\n",
              "      <td>1</td>\n",
              "      <td>2004-05-09</td>\n",
              "      <td>2004-05-15</td>\n",
              "      <td>CENTRO OESTE</td>\n",
              "      <td>GOIAS</td>\n",
              "      <td>ETANOL HIDRATADO</td>\n",
              "      <td>387</td>\n",
              "      <td>R$/l</td>\n",
              "      <td>1.162</td>\n",
              "      <td>0.114</td>\n",
              "      <td>0.89</td>\n",
              "      <td>1.449</td>\n",
              "      <td>0.399</td>\n",
              "      <td>0.098</td>\n",
              "      <td>0.763</td>\n",
              "      <td>0.088</td>\n",
              "      <td>0.5013</td>\n",
              "      <td>1.05</td>\n",
              "      <td>0.115</td>\n",
              "      <td>5.0</td>\n",
              "      <td>2004.0</td>\n",
              "    </tr>\n",
              "    <tr>\n",
              "      <th>2</th>\n",
              "      <td>2</td>\n",
              "      <td>2004-05-09</td>\n",
              "      <td>2004-05-15</td>\n",
              "      <td>CENTRO OESTE</td>\n",
              "      <td>MATO GROSSO</td>\n",
              "      <td>ETANOL HIDRATADO</td>\n",
              "      <td>192</td>\n",
              "      <td>R$/l</td>\n",
              "      <td>1.389</td>\n",
              "      <td>0.097</td>\n",
              "      <td>1.18</td>\n",
              "      <td>1.760</td>\n",
              "      <td>0.419</td>\n",
              "      <td>0.070</td>\n",
              "      <td>0.97</td>\n",
              "      <td>0.095</td>\n",
              "      <td>0.5614</td>\n",
              "      <td>1.161</td>\n",
              "      <td>0.098</td>\n",
              "      <td>5.0</td>\n",
              "      <td>2004.0</td>\n",
              "    </tr>\n",
              "    <tr>\n",
              "      <th>3</th>\n",
              "      <td>3</td>\n",
              "      <td>2004-05-09</td>\n",
              "      <td>2004-05-15</td>\n",
              "      <td>CENTRO OESTE</td>\n",
              "      <td>MATO GROSSO DO SUL</td>\n",
              "      <td>ETANOL HIDRATADO</td>\n",
              "      <td>162</td>\n",
              "      <td>R$/l</td>\n",
              "      <td>1.262</td>\n",
              "      <td>0.070</td>\n",
              "      <td>1.09</td>\n",
              "      <td>1.509</td>\n",
              "      <td>0.432</td>\n",
              "      <td>0.055</td>\n",
              "      <td>0.83</td>\n",
              "      <td>0.119</td>\n",
              "      <td>0.5991</td>\n",
              "      <td>1.22242</td>\n",
              "      <td>0.143</td>\n",
              "      <td>5.0</td>\n",
              "      <td>2004.0</td>\n",
              "    </tr>\n",
              "    <tr>\n",
              "      <th>4</th>\n",
              "      <td>4</td>\n",
              "      <td>2004-05-09</td>\n",
              "      <td>2004-05-15</td>\n",
              "      <td>NORDESTE</td>\n",
              "      <td>ALAGOAS</td>\n",
              "      <td>ETANOL HIDRATADO</td>\n",
              "      <td>103</td>\n",
              "      <td>R$/l</td>\n",
              "      <td>1.181</td>\n",
              "      <td>0.078</td>\n",
              "      <td>1.05</td>\n",
              "      <td>1.400</td>\n",
              "      <td>0.24</td>\n",
              "      <td>0.066</td>\n",
              "      <td>0.941</td>\n",
              "      <td>0.077</td>\n",
              "      <td>0.7441</td>\n",
              "      <td>1.0317</td>\n",
              "      <td>0.082</td>\n",
              "      <td>5.0</td>\n",
              "      <td>2004.0</td>\n",
              "    </tr>\n",
              "  </tbody>\n",
              "</table>\n",
              "</div>"
            ],
            "text/plain": [
              "   Unnamed: 0 DATA INICIAL  ...  MÊS     ANO\n",
              "0           0   2004-05-09  ...  5.0  2004.0\n",
              "1           1   2004-05-09  ...  5.0  2004.0\n",
              "2           2   2004-05-09  ...  5.0  2004.0\n",
              "3           3   2004-05-09  ...  5.0  2004.0\n",
              "4           4   2004-05-09  ...  5.0  2004.0\n",
              "\n",
              "[5 rows x 21 columns]"
            ]
          },
          "metadata": {
            "tags": []
          },
          "execution_count": 8
        }
      ]
    },
    {
      "cell_type": "code",
      "metadata": {
        "id": "selective-danish"
      },
      "source": [
        ""
      ],
      "id": "selective-danish",
      "execution_count": null,
      "outputs": []
    },
    {
      "cell_type": "markdown",
      "metadata": {
        "id": "naval-relation"
      },
      "source": [
        "### 1.3 Informações do Dataset e Elementos Chave"
      ],
      "id": "naval-relation"
    },
    {
      "cell_type": "markdown",
      "metadata": {
        "id": "southern-collaboration"
      },
      "source": [
        "### 1.3.1 Informações gerais sobre o Dataset"
      ],
      "id": "southern-collaboration"
    },
    {
      "cell_type": "code",
      "metadata": {
        "id": "abstract-component",
        "outputId": "a9d998a9-5e89-4e84-8504-c5f4b91d9629",
        "colab": {
          "base_uri": "https://localhost:8080/"
        }
      },
      "source": [
        "ds.info()"
      ],
      "id": "abstract-component",
      "execution_count": 9,
      "outputs": [
        {
          "output_type": "stream",
          "text": [
            "<class 'pandas.core.frame.DataFrame'>\n",
            "RangeIndex: 49249 entries, 0 to 49248\n",
            "Data columns (total 21 columns):\n",
            " #   Column                         Non-Null Count  Dtype  \n",
            "---  ------                         --------------  -----  \n",
            " 0   Unnamed: 0                     49249 non-null  int64  \n",
            " 1   DATA INICIAL                   49249 non-null  object \n",
            " 2   DATA FINAL                     49249 non-null  object \n",
            " 3   REGIÃO                         49249 non-null  object \n",
            " 4   ESTADO                         49249 non-null  object \n",
            " 5   PRODUTO                        49249 non-null  object \n",
            " 6   NÚMERO DE POSTOS PESQUISADOS   49249 non-null  int64  \n",
            " 7   UNIDADE DE MEDIDA              49249 non-null  object \n",
            " 8   PREÇO MÉDIO REVENDA            49248 non-null  float64\n",
            " 9   DESVIO PADRÃO REVENDA          49248 non-null  float64\n",
            " 10  PREÇO MÍNIMO REVENDA           49248 non-null  float64\n",
            " 11  PREÇO MÁXIMO REVENDA           49248 non-null  float64\n",
            " 12  MARGEM MÉDIA REVENDA           49248 non-null  object \n",
            " 13  COEF DE VARIAÇÃO REVENDA       49248 non-null  float64\n",
            " 14  PREÇO MÉDIO DISTRIBUIÇÃO       49248 non-null  object \n",
            " 15  DESVIO PADRÃO DISTRIBUIÇÃO     49248 non-null  object \n",
            " 16  PREÇO MÍNIMO DISTRIBUIÇÃO      49248 non-null  object \n",
            " 17  PREÇO MÁXIMO DISTRIBUIÇÃO      49248 non-null  object \n",
            " 18  COEF DE VARIAÇÃO DISTRIBUIÇÃO  49248 non-null  object \n",
            " 19  MÊS                            49248 non-null  float64\n",
            " 20  ANO                            49248 non-null  float64\n",
            "dtypes: float64(7), int64(2), object(12)\n",
            "memory usage: 7.9+ MB\n"
          ],
          "name": "stdout"
        }
      ]
    },
    {
      "cell_type": "markdown",
      "metadata": {
        "id": "expressed-amber"
      },
      "source": [
        "A primeira coluna da tabela, chamada _'Unnamed: 0'_, parece não significar nada. Na verdade, ela parece ser os **índices** da tabela, que foram salvos como uma _coluna_.<br/>\n",
        "Veremos jajá como **remover tal coluna**.\n",
        "\n",
        "Outro ponto é que, aparentemente, nenhum atributo/coluna possui valores nulos (_null_), uma vez que o número de registros do dataframe e os números de valores _non-null_ é de **106823**. <br/>\n",
        "Mas, veremos que não é bem assim para esse caso."
      ],
      "id": "expressed-amber"
    },
    {
      "cell_type": "markdown",
      "metadata": {
        "id": "nasty-singing"
      },
      "source": [
        "### 1.3.2 Data Frame\n",
        "Todo dataset carregado (dados estruturados) é um `Data Frame`: 'Tabela' bi-dimensional, de tamanho mutável, com dados potencialmente heterogêneos. <br/>"
      ],
      "id": "nasty-singing"
    },
    {
      "cell_type": "code",
      "metadata": {
        "id": "micro-progress",
        "outputId": "5e079ad7-a409-4c69-efb0-9e61bdf5f4e5",
        "colab": {
          "base_uri": "https://localhost:8080/"
        }
      },
      "source": [
        "type(ds)"
      ],
      "id": "micro-progress",
      "execution_count": 10,
      "outputs": [
        {
          "output_type": "execute_result",
          "data": {
            "text/plain": [
              "pandas.core.frame.DataFrame"
            ]
          },
          "metadata": {
            "tags": []
          },
          "execution_count": 10
        }
      ]
    },
    {
      "cell_type": "markdown",
      "metadata": {
        "id": "educated-fourth"
      },
      "source": [
        "Podemos acessar as **dimensões do Data Frame** (número de linhas x número de colunas) utilizando o atributo `.shape` do Data Frame."
      ],
      "id": "educated-fourth"
    },
    {
      "cell_type": "code",
      "metadata": {
        "id": "detected-prediction",
        "outputId": "7040ef18-00d9-42f5-9fc7-f38c2c6466c2",
        "colab": {
          "base_uri": "https://localhost:8080/"
        }
      },
      "source": [
        "ds.shape"
      ],
      "id": "detected-prediction",
      "execution_count": 13,
      "outputs": [
        {
          "output_type": "execute_result",
          "data": {
            "text/plain": [
              "(49249, 21)"
            ]
          },
          "metadata": {
            "tags": []
          },
          "execution_count": 13
        }
      ]
    },
    {
      "cell_type": "code",
      "metadata": {
        "id": "fallen-distance",
        "outputId": "ede22f55-9df3-448f-92dc-20a3ba673f7b",
        "colab": {
          "base_uri": "https://localhost:8080/"
        }
      },
      "source": [
        "ds.shape[0]"
      ],
      "id": "fallen-distance",
      "execution_count": 14,
      "outputs": [
        {
          "output_type": "execute_result",
          "data": {
            "text/plain": [
              "49249"
            ]
          },
          "metadata": {
            "tags": []
          },
          "execution_count": 14
        }
      ]
    },
    {
      "cell_type": "code",
      "metadata": {
        "id": "silver-atlantic",
        "outputId": "aa68a619-c5cd-4a3a-db82-7e4da286a52c",
        "colab": {
          "base_uri": "https://localhost:8080/"
        }
      },
      "source": [
        "ds.shape[1]"
      ],
      "id": "silver-atlantic",
      "execution_count": 15,
      "outputs": [
        {
          "output_type": "execute_result",
          "data": {
            "text/plain": [
              "21"
            ]
          },
          "metadata": {
            "tags": []
          },
          "execution_count": 15
        }
      ]
    },
    {
      "cell_type": "markdown",
      "metadata": {
        "id": "binary-sussex"
      },
      "source": [
        "#### **Criando um DataFrame**\n",
        "\n",
        "Podemos criar um DataFrame a partir de um _dicionário_, onde cada **chave** possui uma **lista de elementos de igual tamanho**.<br/>\n",
        "As **chaves** representam as **colunas** e **cada um dos valores de sua lista** representa o **valor da linha** correspondente para aquela coluna."
      ],
      "id": "binary-sussex"
    },
    {
      "cell_type": "code",
      "metadata": {
        "id": "beneficial-passport"
      },
      "source": [
        "alunos_df = pd.DataFrame({\n",
        "    'nome': ['Luke Skywalker', 'Yoda', 'Palpatine'],\n",
        "    'idade': [16, 1000, 70],\n",
        "    'peso': [70, 15, 60],\n",
        "    'eh jedi': [True, True, False]  # o nome das colunas podem ter espaços\n",
        "})"
      ],
      "id": "beneficial-passport",
      "execution_count": null,
      "outputs": []
    },
    {
      "cell_type": "code",
      "metadata": {
        "id": "great-relief"
      },
      "source": [
        "alunos_df"
      ],
      "id": "great-relief",
      "execution_count": null,
      "outputs": []
    },
    {
      "cell_type": "markdown",
      "metadata": {
        "id": "elegant-profit"
      },
      "source": [
        "#### **VEJA MAIS**\n",
        "Criando um Data Frame a partir de um dicionário: https://www.geeksforgeeks.org/how-to-create-dataframe-from-dictionary-in-python-pandas/"
      ],
      "id": "elegant-profit"
    },
    {
      "cell_type": "markdown",
      "metadata": {
        "id": "laden-trance"
      },
      "source": [
        "#### **Renomeando as colunas de um DataFrame**\n",
        "**===>** O método `DataFrame.columns` retorna uma \";lista\" com os **nomes de todas as colunas** do data frame."
      ],
      "id": "laden-trance"
    },
    {
      "cell_type": "code",
      "metadata": {
        "id": "impaired-spain"
      },
      "source": [
        ""
      ],
      "id": "impaired-spain",
      "execution_count": null,
      "outputs": []
    },
    {
      "cell_type": "code",
      "metadata": {
        "id": "detected-ceramic"
      },
      "source": [
        ""
      ],
      "id": "detected-ceramic",
      "execution_count": null,
      "outputs": []
    },
    {
      "cell_type": "code",
      "metadata": {
        "id": "conditional-password"
      },
      "source": [
        ""
      ],
      "id": "conditional-password",
      "execution_count": null,
      "outputs": []
    },
    {
      "cell_type": "markdown",
      "metadata": {
        "id": "geographic-wages"
      },
      "source": [
        "<br/>\n",
        "\n",
        "**===>** Para **renomear colunas** do data frame, utilize o método `DataFrame.rename`, que retorna uma _cópia_ do data frame com as as colunas renomeadas:"
      ],
      "id": "geographic-wages"
    },
    {
      "cell_type": "code",
      "metadata": {
        "id": "adopted-charlotte"
      },
      "source": [
        ""
      ],
      "id": "adopted-charlotte",
      "execution_count": null,
      "outputs": []
    },
    {
      "cell_type": "code",
      "metadata": {
        "id": "infinite-christian"
      },
      "source": [
        ""
      ],
      "id": "infinite-christian",
      "execution_count": null,
      "outputs": []
    },
    {
      "cell_type": "code",
      "metadata": {
        "id": "violent-inspector"
      },
      "source": [
        ""
      ],
      "id": "violent-inspector",
      "execution_count": null,
      "outputs": []
    },
    {
      "cell_type": "code",
      "metadata": {
        "id": "homeless-sound"
      },
      "source": [
        ""
      ],
      "id": "homeless-sound",
      "execution_count": null,
      "outputs": []
    },
    {
      "cell_type": "markdown",
      "metadata": {
        "id": "personalized-belize"
      },
      "source": [
        "Para renomear o _próprio_ data frame em questão, utilize o parâmetro `inplace=True`:"
      ],
      "id": "personalized-belize"
    },
    {
      "cell_type": "code",
      "metadata": {
        "id": "nonprofit-missouri"
      },
      "source": [
        ""
      ],
      "id": "nonprofit-missouri",
      "execution_count": null,
      "outputs": []
    },
    {
      "cell_type": "code",
      "metadata": {
        "id": "nervous-placement"
      },
      "source": [
        ""
      ],
      "id": "nervous-placement",
      "execution_count": null,
      "outputs": []
    },
    {
      "cell_type": "markdown",
      "metadata": {
        "id": "prompt-childhood"
      },
      "source": [
        "<br/>\n",
        "\n",
        "**===>** Uma outra forma de **renomear todas as listas** de um data frame é passar uma _lista_ com os novos nomes das colunas para o atributo `DataFrame.columns`:"
      ],
      "id": "prompt-childhood"
    },
    {
      "cell_type": "code",
      "metadata": {
        "id": "bright-procurement"
      },
      "source": [
        ""
      ],
      "id": "bright-procurement",
      "execution_count": null,
      "outputs": []
    },
    {
      "cell_type": "code",
      "metadata": {
        "id": "operational-authority"
      },
      "source": [
        ""
      ],
      "id": "operational-authority",
      "execution_count": null,
      "outputs": []
    },
    {
      "cell_type": "code",
      "metadata": {
        "id": "authorized-indicator"
      },
      "source": [
        ""
      ],
      "id": "authorized-indicator",
      "execution_count": null,
      "outputs": []
    },
    {
      "cell_type": "markdown",
      "metadata": {
        "id": "lonely-sister"
      },
      "source": [
        "### 1.3.3 Series"
      ],
      "id": "lonely-sister"
    },
    {
      "cell_type": "markdown",
      "metadata": {
        "id": "cheap-dressing"
      },
      "source": [
        "Array uni-dimensional com os dados e rótulos de um eixo."
      ],
      "id": "cheap-dressing"
    },
    {
      "cell_type": "code",
      "metadata": {
        "id": "bacterial-country"
      },
      "source": [
        ""
      ],
      "id": "bacterial-country",
      "execution_count": null,
      "outputs": []
    },
    {
      "cell_type": "code",
      "metadata": {
        "id": "incorrect-moment"
      },
      "source": [
        ""
      ],
      "id": "incorrect-moment",
      "execution_count": null,
      "outputs": []
    },
    {
      "cell_type": "code",
      "metadata": {
        "id": "conscious-fountain"
      },
      "source": [
        ""
      ],
      "id": "conscious-fountain",
      "execution_count": null,
      "outputs": []
    },
    {
      "cell_type": "code",
      "metadata": {
        "id": "direct-convenience"
      },
      "source": [
        ""
      ],
      "id": "direct-convenience",
      "execution_count": null,
      "outputs": []
    },
    {
      "cell_type": "code",
      "metadata": {
        "id": "average-final"
      },
      "source": [
        ""
      ],
      "id": "average-final",
      "execution_count": null,
      "outputs": []
    },
    {
      "cell_type": "code",
      "metadata": {
        "id": "sensitive-clerk"
      },
      "source": [
        ""
      ],
      "id": "sensitive-clerk",
      "execution_count": null,
      "outputs": []
    },
    {
      "cell_type": "markdown",
      "metadata": {
        "id": "ready-brook"
      },
      "source": [
        "#### **Criando uma Series**\n",
        "\n",
        "Podemos criar um DataFrame a partir de uma lista de elementos."
      ],
      "id": "ready-brook"
    },
    {
      "cell_type": "code",
      "metadata": {
        "id": "acoustic-container"
      },
      "source": [
        ""
      ],
      "id": "acoustic-container",
      "execution_count": null,
      "outputs": []
    },
    {
      "cell_type": "markdown",
      "metadata": {
        "id": "european-ministry"
      },
      "source": [
        "Podemos alterar o **nome dos índices** (veremos melhor jajá) e o **nome da Series** (o que ela representa):"
      ],
      "id": "european-ministry"
    },
    {
      "cell_type": "code",
      "metadata": {
        "id": "motivated-warning"
      },
      "source": [
        ""
      ],
      "id": "motivated-warning",
      "execution_count": null,
      "outputs": []
    },
    {
      "cell_type": "markdown",
      "metadata": {
        "id": "deadly-prince"
      },
      "source": [
        "#### **VEJA MAIS**\n",
        "https://pandas.pydata.org/pandas-docs/stable/user_guide/dsintro.html"
      ],
      "id": "deadly-prince"
    },
    {
      "cell_type": "markdown",
      "metadata": {
        "id": "insured-turkey"
      },
      "source": [
        "### 1.3.4 Atribuindo Dados"
      ],
      "id": "insured-turkey"
    },
    {
      "cell_type": "markdown",
      "metadata": {
        "id": "smooth-tuesday"
      },
      "source": [
        "#### 1.3.4.1 Atribuindo constantes"
      ],
      "id": "smooth-tuesday"
    },
    {
      "cell_type": "code",
      "metadata": {
        "id": "electoral-graduate"
      },
      "source": [
        ""
      ],
      "id": "electoral-graduate",
      "execution_count": null,
      "outputs": []
    },
    {
      "cell_type": "code",
      "metadata": {
        "id": "level-hazard"
      },
      "source": [
        ""
      ],
      "id": "level-hazard",
      "execution_count": null,
      "outputs": []
    },
    {
      "cell_type": "code",
      "metadata": {
        "id": "connected-lambda"
      },
      "source": [
        ""
      ],
      "id": "connected-lambda",
      "execution_count": null,
      "outputs": []
    },
    {
      "cell_type": "code",
      "metadata": {
        "id": "danish-thumbnail"
      },
      "source": [
        ""
      ],
      "id": "danish-thumbnail",
      "execution_count": null,
      "outputs": []
    },
    {
      "cell_type": "code",
      "metadata": {
        "id": "corresponding-cabinet"
      },
      "source": [
        ""
      ],
      "id": "corresponding-cabinet",
      "execution_count": null,
      "outputs": []
    },
    {
      "cell_type": "code",
      "metadata": {
        "id": "alpha-exposure"
      },
      "source": [
        ""
      ],
      "id": "alpha-exposure",
      "execution_count": null,
      "outputs": []
    },
    {
      "cell_type": "markdown",
      "metadata": {
        "id": "mental-logistics"
      },
      "source": [
        "#### 1.3.4.2 Atribuindo listas ou series"
      ],
      "id": "mental-logistics"
    },
    {
      "cell_type": "code",
      "metadata": {
        "id": "meaning-alliance"
      },
      "source": [
        ""
      ],
      "id": "meaning-alliance",
      "execution_count": null,
      "outputs": []
    },
    {
      "cell_type": "code",
      "metadata": {
        "id": "cordless-nursing"
      },
      "source": [
        ""
      ],
      "id": "cordless-nursing",
      "execution_count": null,
      "outputs": []
    },
    {
      "cell_type": "code",
      "metadata": {
        "id": "trained-particular"
      },
      "source": [
        ""
      ],
      "id": "trained-particular",
      "execution_count": null,
      "outputs": []
    },
    {
      "cell_type": "code",
      "metadata": {
        "id": "conservative-above"
      },
      "source": [
        ""
      ],
      "id": "conservative-above",
      "execution_count": null,
      "outputs": []
    },
    {
      "cell_type": "code",
      "metadata": {
        "id": "transparent-service"
      },
      "source": [
        ""
      ],
      "id": "transparent-service",
      "execution_count": null,
      "outputs": []
    },
    {
      "cell_type": "code",
      "metadata": {
        "id": "musical-corpus"
      },
      "source": [
        ""
      ],
      "id": "musical-corpus",
      "execution_count": null,
      "outputs": []
    },
    {
      "cell_type": "markdown",
      "metadata": {
        "id": "positive-neutral"
      },
      "source": [
        "#### 1.3.4.3 Criando novas colunas\n",
        "Para **criar uma nova coluna** em um data frame, basta atribuirmos uma _lista/Series de valores_ a uma **nova 'chave'** do data frame. <br/>\n",
        "\n",
        "**PS:** A _quantidade de valores_ da lista precisa ser **igual** ao _número de linhas/registros_ do data frame."
      ],
      "id": "positive-neutral"
    },
    {
      "cell_type": "code",
      "metadata": {
        "id": "dense-background"
      },
      "source": [
        ""
      ],
      "id": "dense-background",
      "execution_count": null,
      "outputs": []
    },
    {
      "cell_type": "code",
      "metadata": {
        "id": "neither-disposal"
      },
      "source": [
        ""
      ],
      "id": "neither-disposal",
      "execution_count": null,
      "outputs": []
    },
    {
      "cell_type": "code",
      "metadata": {
        "id": "electrical-extreme"
      },
      "source": [
        ""
      ],
      "id": "electrical-extreme",
      "execution_count": null,
      "outputs": []
    },
    {
      "cell_type": "markdown",
      "metadata": {
        "id": "protected-advertiser"
      },
      "source": [
        "<br/>\n",
        "\n",
        "Outro exemplo:"
      ],
      "id": "protected-advertiser"
    },
    {
      "cell_type": "code",
      "metadata": {
        "id": "restricted-potential"
      },
      "source": [
        ""
      ],
      "id": "restricted-potential",
      "execution_count": null,
      "outputs": []
    },
    {
      "cell_type": "code",
      "metadata": {
        "id": "single-batman"
      },
      "source": [
        ""
      ],
      "id": "single-batman",
      "execution_count": null,
      "outputs": []
    },
    {
      "cell_type": "markdown",
      "metadata": {
        "id": "together-collar"
      },
      "source": [
        "**PS:** Obviamente, a lógica correta em converter o preço dos combustíveis em reais para dólares não é considerar uma taxa de câmbio fixa, uma vez que cada preço foi aferido em um momento diferente."
      ],
      "id": "together-collar"
    },
    {
      "cell_type": "markdown",
      "metadata": {
        "id": "artificial-ecuador"
      },
      "source": [
        "### 1.3.4 Índices"
      ],
      "id": "artificial-ecuador"
    },
    {
      "cell_type": "markdown",
      "metadata": {
        "id": "foreign-husband"
      },
      "source": [
        "Todo Data Frame possui **índices**, que não são considerado colunas da tabela. Tais índices são comumente **númericos**, de 0 a num_linhas-1, mas também podem ser **textuais (rótulos/labels)**."
      ],
      "id": "foreign-husband"
    },
    {
      "cell_type": "code",
      "metadata": {
        "id": "alternative-columbus"
      },
      "source": [
        ""
      ],
      "id": "alternative-columbus",
      "execution_count": null,
      "outputs": []
    },
    {
      "cell_type": "code",
      "metadata": {
        "id": "statistical-uganda"
      },
      "source": [
        ""
      ],
      "id": "statistical-uganda",
      "execution_count": null,
      "outputs": []
    },
    {
      "cell_type": "markdown",
      "metadata": {
        "id": "absolute-fourth"
      },
      "source": [
        "Use `list(data.index)` ou `data.index.to_list()` para converter um RangeIndex para uma python list."
      ],
      "id": "absolute-fourth"
    },
    {
      "cell_type": "markdown",
      "metadata": {
        "id": "nonprofit-latino"
      },
      "source": [
        "#### **Exemplo de Data Frame com Índices Textuais (labels)**"
      ],
      "id": "nonprofit-latino"
    },
    {
      "cell_type": "code",
      "metadata": {
        "id": "precious-judges"
      },
      "source": [
        "pesquisa_de_satisfacao = pd.DataFrame({\n",
        "    'bom': [50, 21, 100],\n",
        "    'ruim': [131, 2, 30],\n",
        "    'pessimo': [30, 20, 1]\n",
        "}, index=['XboxOne', 'Playstation4', 'Switch'])"
      ],
      "id": "precious-judges",
      "execution_count": null,
      "outputs": []
    },
    {
      "cell_type": "code",
      "metadata": {
        "id": "enhanced-prompt"
      },
      "source": [
        "pesquisa_de_satisfacao.head()"
      ],
      "id": "enhanced-prompt",
      "execution_count": null,
      "outputs": []
    },
    {
      "cell_type": "markdown",
      "metadata": {
        "id": "sixth-supplement"
      },
      "source": [
        "### 1.4 Selecionando uma ou mais amostras (Indexação)"
      ],
      "id": "sixth-supplement"
    },
    {
      "cell_type": "markdown",
      "metadata": {
        "id": "buried-headquarters"
      },
      "source": [
        "#### **==>  Index-based selection (seleção baseada em Índices)**\n",
        "Mostrando linhas específicas de um DataFrame:\n",
        "\n",
        "`iloc`: seleciona elementos do Dataframe, baseado em seu **índice (número)** --> row-first, column-second"
      ],
      "id": "buried-headquarters"
    },
    {
      "cell_type": "markdown",
      "metadata": {
        "id": "inclusive-magnet"
      },
      "source": [
        "**Selecionando uma amostra/linha:**"
      ],
      "id": "inclusive-magnet"
    },
    {
      "cell_type": "code",
      "metadata": {
        "id": "bored-roberts"
      },
      "source": [
        ""
      ],
      "id": "bored-roberts",
      "execution_count": null,
      "outputs": []
    },
    {
      "cell_type": "code",
      "metadata": {
        "id": "acoustic-exemption"
      },
      "source": [
        ""
      ],
      "id": "acoustic-exemption",
      "execution_count": null,
      "outputs": []
    },
    {
      "cell_type": "markdown",
      "metadata": {
        "id": "regional-spank"
      },
      "source": [
        "**Selecionando múltiplias amostras/linhas:**"
      ],
      "id": "regional-spank"
    },
    {
      "cell_type": "code",
      "metadata": {
        "id": "framed-julian"
      },
      "source": [
        ""
      ],
      "id": "framed-julian",
      "execution_count": null,
      "outputs": []
    },
    {
      "cell_type": "code",
      "metadata": {
        "id": "fallen-palace"
      },
      "source": [
        ""
      ],
      "id": "fallen-palace",
      "execution_count": null,
      "outputs": []
    },
    {
      "cell_type": "code",
      "metadata": {
        "id": "varying-patrol"
      },
      "source": [
        ""
      ],
      "id": "varying-patrol",
      "execution_count": null,
      "outputs": []
    },
    {
      "cell_type": "code",
      "metadata": {
        "id": "numerical-robinson"
      },
      "source": [
        ""
      ],
      "id": "numerical-robinson",
      "execution_count": null,
      "outputs": []
    },
    {
      "cell_type": "code",
      "metadata": {
        "id": "olive-plain"
      },
      "source": [
        ""
      ],
      "id": "olive-plain",
      "execution_count": null,
      "outputs": []
    },
    {
      "cell_type": "code",
      "metadata": {
        "id": "settled-sunglasses"
      },
      "source": [
        "# e assim por diante!"
      ],
      "id": "settled-sunglasses",
      "execution_count": null,
      "outputs": []
    },
    {
      "cell_type": "markdown",
      "metadata": {
        "id": "extended-helping"
      },
      "source": [
        "#### **==>  Label-based selection (seleção baseadas em Rótulos)**\n",
        "\n",
        "`loc`: seleciona elementos do Dataframe, baseado em seus **rótulos** --> row-first, column-second"
      ],
      "id": "extended-helping"
    },
    {
      "cell_type": "code",
      "metadata": {
        "id": "packed-unemployment"
      },
      "source": [
        ""
      ],
      "id": "packed-unemployment",
      "execution_count": null,
      "outputs": []
    },
    {
      "cell_type": "code",
      "metadata": {
        "id": "blank-defeat"
      },
      "source": [
        ""
      ],
      "id": "blank-defeat",
      "execution_count": null,
      "outputs": []
    },
    {
      "cell_type": "code",
      "metadata": {
        "id": "personalized-southeast"
      },
      "source": [
        ""
      ],
      "id": "personalized-southeast",
      "execution_count": null,
      "outputs": []
    },
    {
      "cell_type": "code",
      "metadata": {
        "id": "dutch-proportion"
      },
      "source": [
        ""
      ],
      "id": "dutch-proportion",
      "execution_count": null,
      "outputs": []
    },
    {
      "cell_type": "code",
      "metadata": {
        "id": "instrumental-automation"
      },
      "source": [
        ""
      ],
      "id": "instrumental-automation",
      "execution_count": null,
      "outputs": []
    },
    {
      "cell_type": "code",
      "metadata": {
        "id": "statewide-being"
      },
      "source": [
        ""
      ],
      "id": "statewide-being",
      "execution_count": null,
      "outputs": []
    },
    {
      "cell_type": "code",
      "metadata": {
        "id": "sublime-berry"
      },
      "source": [
        ""
      ],
      "id": "sublime-berry",
      "execution_count": null,
      "outputs": []
    },
    {
      "cell_type": "code",
      "metadata": {
        "id": "united-bulgarian"
      },
      "source": [
        ""
      ],
      "id": "united-bulgarian",
      "execution_count": null,
      "outputs": []
    },
    {
      "cell_type": "code",
      "metadata": {
        "id": "played-oxide"
      },
      "source": [
        ""
      ],
      "id": "played-oxide",
      "execution_count": null,
      "outputs": []
    },
    {
      "cell_type": "markdown",
      "metadata": {
        "id": "brilliant-welding"
      },
      "source": [
        "### 1.5 Selecionando um ou mais atributos (colunas)"
      ],
      "id": "brilliant-welding"
    },
    {
      "cell_type": "code",
      "metadata": {
        "id": "brilliant-simpson"
      },
      "source": [
        ""
      ],
      "id": "brilliant-simpson",
      "execution_count": null,
      "outputs": []
    },
    {
      "cell_type": "code",
      "metadata": {
        "id": "prostate-brass"
      },
      "source": [
        ""
      ],
      "id": "prostate-brass",
      "execution_count": null,
      "outputs": []
    },
    {
      "cell_type": "code",
      "metadata": {
        "id": "patent-desert"
      },
      "source": [
        ""
      ],
      "id": "patent-desert",
      "execution_count": null,
      "outputs": []
    },
    {
      "cell_type": "code",
      "metadata": {
        "id": "natural-motor"
      },
      "source": [
        ""
      ],
      "id": "natural-motor",
      "execution_count": null,
      "outputs": []
    },
    {
      "cell_type": "markdown",
      "metadata": {
        "id": "italian-berkeley"
      },
      "source": [
        "Como o rótulo da coluna 'DATA INICIAL' **possui espaço**, não é possível acessá-la como método: `data.DATA INICIAL`"
      ],
      "id": "italian-berkeley"
    },
    {
      "cell_type": "markdown",
      "metadata": {
        "id": "heard-objective"
      },
      "source": [
        "### 1.6 Removendo um Atributo (Coluna) do Data Frame"
      ],
      "id": "heard-objective"
    },
    {
      "cell_type": "markdown",
      "metadata": {
        "id": "ancient-european"
      },
      "source": [
        "Como vimos anteriormente, o atributo 'Unnamed: 0' parece ser um **ruído** em nosso dataset. Desta maneira, vamos eliminá-lo,"
      ],
      "id": "ancient-european"
    },
    {
      "cell_type": "code",
      "metadata": {
        "id": "private-accused"
      },
      "source": [
        ""
      ],
      "id": "private-accused",
      "execution_count": null,
      "outputs": []
    },
    {
      "cell_type": "code",
      "metadata": {
        "id": "other-server"
      },
      "source": [
        ""
      ],
      "id": "other-server",
      "execution_count": null,
      "outputs": []
    },
    {
      "cell_type": "code",
      "metadata": {
        "id": "fixed-damage"
      },
      "source": [
        ""
      ],
      "id": "fixed-damage",
      "execution_count": null,
      "outputs": []
    },
    {
      "cell_type": "markdown",
      "metadata": {
        "id": "forbidden-neighborhood"
      },
      "source": [
        "### 1.7 Salvando um Data Frame"
      ],
      "id": "forbidden-neighborhood"
    },
    {
      "cell_type": "markdown",
      "metadata": {
        "id": "sensitive-rocket"
      },
      "source": [
        "Para salvarmos um Data Frame para um **arquivo CSV**, basta usarmos o método `.to_csv`. <br/>\n",
        "Por padrão, esse método **salva os índices da tabela como uma coluna no CSV**.<br/>\n",
        "Como no geral tais índices são números de 0 a n-1, não há necessidade para isso (veja que removemos anteriormente a coluna 'Unnamed: 0' que foi justamente esse caso).<br/>\n",
        "Desta forma, utilize o parâmetro: `index=False`.\n",
        "\n",
        "Por padrão, o método utilizará a ',' como separador das colunas. Caso queira alterá-lo, utilize o parâmetro `sep`."
      ],
      "id": "sensitive-rocket"
    },
    {
      "cell_type": "code",
      "metadata": {
        "id": "generic-equilibrium"
      },
      "source": [
        ""
      ],
      "id": "generic-equilibrium",
      "execution_count": null,
      "outputs": []
    },
    {
      "cell_type": "markdown",
      "metadata": {
        "id": "backed-arrow"
      },
      "source": [
        "### 1.8 Seleção Condicional: Filtrando amostras"
      ],
      "id": "backed-arrow"
    },
    {
      "cell_type": "markdown",
      "metadata": {
        "id": "aerial-default"
      },
      "source": [
        "Durante nossas análise exploratórias, frequentemente filtraremos nossas amostras, a partir de certas **condições**, para fins de análise mais específica. <br/>\n",
        "Existem algumas maneiras de fazermos tal filtragem. Antes disso, vamos carregar nosso dataset pré-processado que salvamos no item anterior."
      ],
      "id": "aerial-default"
    },
    {
      "cell_type": "code",
      "metadata": {
        "id": "subject-rubber"
      },
      "source": [
        ""
      ],
      "id": "subject-rubber",
      "execution_count": null,
      "outputs": []
    },
    {
      "cell_type": "code",
      "metadata": {
        "id": "southeast-undergraduate"
      },
      "source": [
        ""
      ],
      "id": "southeast-undergraduate",
      "execution_count": null,
      "outputs": []
    },
    {
      "cell_type": "code",
      "metadata": {
        "id": "plain-centre"
      },
      "source": [
        ""
      ],
      "id": "plain-centre",
      "execution_count": null,
      "outputs": []
    },
    {
      "cell_type": "markdown",
      "metadata": {
        "id": "altered-lafayette"
      },
      "source": [
        "#### **Selecionando apenas os preços dos Postos de São Paulo**"
      ],
      "id": "altered-lafayette"
    },
    {
      "cell_type": "markdown",
      "metadata": {
        "id": "express-birmingham"
      },
      "source": [
        "##### **==> Alternativa 1: Seleção Condicional (Comparações diretas)**"
      ],
      "id": "express-birmingham"
    },
    {
      "cell_type": "markdown",
      "metadata": {
        "id": "balanced-executive"
      },
      "source": [
        "O código abaixo retorna uma ***Series ('array') de booleans***, com o número de linhas (amostras) do Data Frame, que informa os registros de preços dos postos do _estado de São Paulo_ (True)."
      ],
      "id": "balanced-executive"
    },
    {
      "cell_type": "code",
      "metadata": {
        "id": "sufficient-providence"
      },
      "source": [
        ""
      ],
      "id": "sufficient-providence",
      "execution_count": null,
      "outputs": []
    },
    {
      "cell_type": "code",
      "metadata": {
        "id": "capable-congo"
      },
      "source": [
        ""
      ],
      "id": "capable-congo",
      "execution_count": null,
      "outputs": []
    },
    {
      "cell_type": "code",
      "metadata": {
        "id": "cognitive-temperature"
      },
      "source": [
        ""
      ],
      "id": "cognitive-temperature",
      "execution_count": null,
      "outputs": []
    },
    {
      "cell_type": "code",
      "metadata": {
        "id": "neural-crazy"
      },
      "source": [
        ""
      ],
      "id": "neural-crazy",
      "execution_count": null,
      "outputs": []
    },
    {
      "cell_type": "code",
      "metadata": {
        "id": "ideal-stand"
      },
      "source": [
        ""
      ],
      "id": "ideal-stand",
      "execution_count": null,
      "outputs": []
    },
    {
      "cell_type": "code",
      "metadata": {
        "id": "overhead-portal"
      },
      "source": [
        ""
      ],
      "id": "overhead-portal",
      "execution_count": null,
      "outputs": []
    },
    {
      "cell_type": "markdown",
      "metadata": {
        "id": "functional-affair"
      },
      "source": [
        "Para **filtrarmos** os registros de postos do estado de São Paulo:"
      ],
      "id": "functional-affair"
    },
    {
      "cell_type": "code",
      "metadata": {
        "id": "muslim-livestock"
      },
      "source": [
        ""
      ],
      "id": "muslim-livestock",
      "execution_count": null,
      "outputs": []
    },
    {
      "cell_type": "markdown",
      "metadata": {
        "id": "acute-smile"
      },
      "source": [
        "O resultado é um Data Frame com _apenas_ os registros desejados após a **filtragem**.<br/>\n",
        "Podemos ainda utilizar o método `loc` para o mesmo fim:"
      ],
      "id": "acute-smile"
    },
    {
      "cell_type": "code",
      "metadata": {
        "id": "several-heath"
      },
      "source": [
        ""
      ],
      "id": "several-heath",
      "execution_count": null,
      "outputs": []
    },
    {
      "cell_type": "markdown",
      "metadata": {
        "id": "egyptian-schedule"
      },
      "source": [
        "##### **==> Alternativa 2: Utilizando o método `query`**"
      ],
      "id": "egyptian-schedule"
    },
    {
      "cell_type": "markdown",
      "metadata": {
        "id": "conventional-bathroom"
      },
      "source": [
        "`query` filtra linhas de um DataFrame baseado em uma **query (pergunta)**."
      ],
      "id": "conventional-bathroom"
    },
    {
      "cell_type": "code",
      "metadata": {
        "id": "contrary-richards"
      },
      "source": [
        ""
      ],
      "id": "contrary-richards",
      "execution_count": null,
      "outputs": []
    },
    {
      "cell_type": "markdown",
      "metadata": {
        "id": "extreme-jones"
      },
      "source": [
        "<br/>\n",
        "\n",
        "Uma boa prática é **salvar o Data Frame filtrado em uma nova variável**. Isso simplifica a complexidade do código para futuras análise feita para os postos de São Paulo."
      ],
      "id": "extreme-jones"
    },
    {
      "cell_type": "code",
      "metadata": {
        "id": "potential-treasure"
      },
      "source": [
        ""
      ],
      "id": "potential-treasure",
      "execution_count": null,
      "outputs": []
    },
    {
      "cell_type": "code",
      "metadata": {
        "id": "union-diesel"
      },
      "source": [
        ""
      ],
      "id": "union-diesel",
      "execution_count": null,
      "outputs": []
    },
    {
      "cell_type": "code",
      "metadata": {
        "id": "british-vision"
      },
      "source": [
        ""
      ],
      "id": "british-vision",
      "execution_count": null,
      "outputs": []
    },
    {
      "cell_type": "code",
      "metadata": {
        "id": "heard-consent"
      },
      "source": [
        ""
      ],
      "id": "heard-consent",
      "execution_count": null,
      "outputs": []
    },
    {
      "cell_type": "markdown",
      "metadata": {
        "id": "substantial-prevention"
      },
      "source": [
        "#### **Selecionando registros de postos do Rio de Janeiro com Preços acima de 2 reais**"
      ],
      "id": "substantial-prevention"
    },
    {
      "cell_type": "code",
      "metadata": {
        "id": "occupied-attitude"
      },
      "source": [
        ""
      ],
      "id": "occupied-attitude",
      "execution_count": null,
      "outputs": []
    },
    {
      "cell_type": "markdown",
      "metadata": {
        "id": "executed-colors"
      },
      "source": [
        "Note que o resultado da seleção continua sendo uma _Series de booleans_ com o _mesmo número de linhas/amostras do DataFrame_, de modo que cada linha possuirá um valor booleano indicando se o posto é do Rio de Janeiro e o preço aferido do combustível é maior que 2 reais (True) ou não.\n",
        "\n",
        "O símbolo **&** significa **AND** na comparação. Essa nomenclatura do python/pandas é diferente das nomenclaturas tradicionais (&&). <br/>\n",
        "Similarmente:\n",
        "- **|** representa o **OR** (não é ||)\n",
        "- **~** representa o **NOT** (não é !)"
      ],
      "id": "executed-colors"
    },
    {
      "cell_type": "code",
      "metadata": {
        "id": "civic-applicant"
      },
      "source": [
        ""
      ],
      "id": "civic-applicant",
      "execution_count": null,
      "outputs": []
    },
    {
      "cell_type": "markdown",
      "metadata": {
        "id": "illegal-boards"
      },
      "source": [
        "Alternativamente, poderíamos usar o método `query` para fazermos tal seleção. Porém, isso não é possível especificamente para esse caso, pois o rótulo da coluna 'PREÇO MÉDIO REVENDA' possui caracteres inválidos para o método (cedilha, acentos) "
      ],
      "id": "illegal-boards"
    },
    {
      "cell_type": "code",
      "metadata": {
        "id": "automotive-manitoba"
      },
      "source": [
        "# Não funciona\n",
        "# data.query('ESTADO==\"RIO DE JANEIRO\" and PREÇO MÉDIO REVENDA > 2')"
      ],
      "id": "automotive-manitoba",
      "execution_count": null,
      "outputs": []
    },
    {
      "cell_type": "markdown",
      "metadata": {
        "id": "mexican-romania"
      },
      "source": [
        "**Aprofundando mais ainda**\n",
        "\n",
        "A primeira comparação `(data['ESTADO'] == 'RIO DE JANEIRO')` checa, linha a linha (amostra a amostra) do DataFrame, quais são aquelas cujo o estado é RIO DE JANEIRO. Nenhuma averiguação de preços é feita nesse momento. Como resultado, temos uma Series de booleans que responde **apenas** a essa \"pergunta\" feita.\n",
        "\n",
        "A segunda comparação `(data['PREÇO MÉDIO REVENDA'] > 2)` checa, linha a linha (amostra a amostra) do DataFrame, quais são os registro cujo preço do combustível é maior que 2 reais. Note que essa comparação checará os postos de **TODOS os estados**. Como resultado, temos uma Series de booleans que responde **apenas** a essa \"pergunta\" feita.\n",
        "\n",
        "Por fim, as duas \"perguntas\" são unidas pelo AND (&) que retorna a \"pergunta completa\" que fizemos."
      ],
      "id": "mexican-romania"
    },
    {
      "cell_type": "markdown",
      "metadata": {
        "id": "worst-catholic"
      },
      "source": [
        "Alguns podem argumentar que tal abordagem é **ineficiente**, uma vez que, para cada condição (\"pergunta\"), estamos varrendo todas as linhas do DataFrame. <br/>\n",
        "O Pandas _tenta otimizar_ isso ao máximo por de trás dos panos. Mas, de fato, de tivermos um dataset **muito grande** (centenas de milhares de linhas), tal abordagem se tornará _lenta_."
      ],
      "id": "worst-catholic"
    },
    {
      "cell_type": "markdown",
      "metadata": {
        "id": "another-income"
      },
      "source": [
        "Assim, poderíamos fazer filtragem com múltiplos condicionais em partes:"
      ],
      "id": "another-income"
    },
    {
      "cell_type": "code",
      "metadata": {
        "id": "strong-nicholas"
      },
      "source": [
        ""
      ],
      "id": "strong-nicholas",
      "execution_count": null,
      "outputs": []
    },
    {
      "cell_type": "code",
      "metadata": {
        "id": "detailed-lyric"
      },
      "source": [
        ""
      ],
      "id": "detailed-lyric",
      "execution_count": null,
      "outputs": []
    },
    {
      "cell_type": "markdown",
      "metadata": {
        "id": "sapphire-gravity"
      },
      "source": [
        "#### **Selecionando registros de postos de São Paulo ou do Rio de Janeiro com Gasolina Comum acima de 2 reais**"
      ],
      "id": "sapphire-gravity"
    },
    {
      "cell_type": "markdown",
      "metadata": {
        "id": "genetic-rwanda"
      },
      "source": [
        "Podemos fazer a solução do \"jeito mais lento\", percorrendo o DataFrame inteiro _múltiplas vezes_:"
      ],
      "id": "genetic-rwanda"
    },
    {
      "cell_type": "code",
      "metadata": {
        "id": "congressional-recorder"
      },
      "source": [
        ""
      ],
      "id": "congressional-recorder",
      "execution_count": null,
      "outputs": []
    },
    {
      "cell_type": "code",
      "metadata": {
        "id": "fifth-catalog"
      },
      "source": [
        ""
      ],
      "id": "fifth-catalog",
      "execution_count": null,
      "outputs": []
    },
    {
      "cell_type": "code",
      "metadata": {
        "id": "built-asthma"
      },
      "source": [
        ""
      ],
      "id": "built-asthma",
      "execution_count": null,
      "outputs": []
    },
    {
      "cell_type": "markdown",
      "metadata": {
        "id": "productive-field"
      },
      "source": [
        "<br/>\n",
        "\n",
        "Alternativamente:"
      ],
      "id": "productive-field"
    },
    {
      "cell_type": "code",
      "metadata": {
        "id": "australian-brother"
      },
      "source": [
        ""
      ],
      "id": "australian-brother",
      "execution_count": null,
      "outputs": []
    },
    {
      "cell_type": "code",
      "metadata": {
        "id": "toxic-mercy"
      },
      "source": [
        ""
      ],
      "id": "toxic-mercy",
      "execution_count": null,
      "outputs": []
    },
    {
      "cell_type": "code",
      "metadata": {
        "id": "secondary-premises"
      },
      "source": [
        ""
      ],
      "id": "secondary-premises",
      "execution_count": null,
      "outputs": []
    },
    {
      "cell_type": "markdown",
      "metadata": {
        "id": "visible-setup"
      },
      "source": [
        "#### **Selecionando registros dos anos de 2008, 2010 e 2012**"
      ],
      "id": "visible-setup"
    },
    {
      "cell_type": "code",
      "metadata": {
        "id": "critical-mississippi"
      },
      "source": [
        ""
      ],
      "id": "critical-mississippi",
      "execution_count": null,
      "outputs": []
    },
    {
      "cell_type": "markdown",
      "metadata": {
        "id": "operational-border"
      },
      "source": [
        "**ALTERNATIVA 1**"
      ],
      "id": "operational-border"
    },
    {
      "cell_type": "code",
      "metadata": {
        "id": "oriental-sitting"
      },
      "source": [
        ""
      ],
      "id": "oriental-sitting",
      "execution_count": null,
      "outputs": []
    },
    {
      "cell_type": "markdown",
      "metadata": {
        "id": "nonprofit-martin"
      },
      "source": [
        "**ALTERNATIVA 2**"
      ],
      "id": "nonprofit-martin"
    },
    {
      "cell_type": "code",
      "metadata": {
        "id": "increased-agent"
      },
      "source": [
        ""
      ],
      "id": "increased-agent",
      "execution_count": null,
      "outputs": []
    },
    {
      "cell_type": "markdown",
      "metadata": {
        "id": "outside-central"
      },
      "source": [
        "### **Iterando com DataFrames**"
      ],
      "id": "outside-central"
    },
    {
      "cell_type": "markdown",
      "metadata": {
        "id": "psychological-hands"
      },
      "source": [
        "#### For-each `DataFrame.iterrows()` (LENTO ==> apenas indicado para iterar pequenos conjunto de dados)"
      ],
      "id": "psychological-hands"
    },
    {
      "cell_type": "code",
      "metadata": {
        "id": "blank-gnome"
      },
      "source": [
        ""
      ],
      "id": "blank-gnome",
      "execution_count": null,
      "outputs": []
    },
    {
      "cell_type": "markdown",
      "metadata": {
        "id": "treated-summer"
      },
      "source": [
        "<h2>2. Preparação dos dados</h2>\n",
        "<hr/>"
      ],
      "id": "treated-summer"
    },
    {
      "cell_type": "markdown",
      "metadata": {
        "id": "enclosed-nicholas"
      },
      "source": [
        "### 2.1 Removendo amostras com valores vazios (null / nan) no dataset"
      ],
      "id": "enclosed-nicholas"
    },
    {
      "cell_type": "code",
      "metadata": {
        "id": "aware-shooting"
      },
      "source": [
        ""
      ],
      "id": "aware-shooting",
      "execution_count": null,
      "outputs": []
    },
    {
      "cell_type": "markdown",
      "metadata": {
        "id": "determined-friendly"
      },
      "source": [
        "De um total de 106823 observações, **não há valores null** / nan para nenhum atributo. Mas, veremos que não é bem assim neste caso específico.<br/><br/>"
      ],
      "id": "determined-friendly"
    },
    {
      "cell_type": "markdown",
      "metadata": {
        "id": "graduate-charger"
      },
      "source": [
        "### 2.2 Conversão de tipos de atributos"
      ],
      "id": "graduate-charger"
    },
    {
      "cell_type": "markdown",
      "metadata": {
        "id": "sharp-explanation"
      },
      "source": [
        "O pandas automaticamente reconhece os tipos de dados de cada coluna. <br/>\n",
        "Porém, existem alguns atributos que estão com seus tipos errados: P. ex., \"PREÇO MÉDIO DISTRIBUIÇÃO\" deveria ser ```float64``` e não ```object```.<br/>\n",
        "Nestes casos, muito provavelmente algumas amostras têm um string ao invés de um número para tais atributos. <br/>\n",
        "\n",
        "Os atributos *\"DATA INICIAL\"* e *\"DATA FINAL\"* deveriam ser do tipo `datetime`.\n",
        "\n",
        "Em outros casos, alguns **atributos categóricos** são ```objects```, mas poderiam ter o tipo ```category```, que é um tipo especial do pandas. <br/>\n",
        "Este tipo é necessário para se utilizar algumas funções específicas do pandas. <br/>\n",
        "**Não** converteremos para este tipo por ora."
      ],
      "id": "sharp-explanation"
    },
    {
      "cell_type": "code",
      "metadata": {
        "id": "downtown-wiring"
      },
      "source": [
        ""
      ],
      "id": "downtown-wiring",
      "execution_count": null,
      "outputs": []
    },
    {
      "cell_type": "markdown",
      "metadata": {
        "id": "blank-monday"
      },
      "source": [
        "#### **Datas**\n",
        "Como os atributos de data do datset já estão em um formato de data aceitável (YYYY-MM-DD), não precisamos forçar nenhuma conversão nesse sentido."
      ],
      "id": "blank-monday"
    },
    {
      "cell_type": "code",
      "metadata": {
        "id": "fancy-copper"
      },
      "source": [
        ""
      ],
      "id": "fancy-copper",
      "execution_count": null,
      "outputs": []
    },
    {
      "cell_type": "code",
      "metadata": {
        "id": "massive-draft"
      },
      "source": [
        ""
      ],
      "id": "massive-draft",
      "execution_count": null,
      "outputs": []
    },
    {
      "cell_type": "markdown",
      "metadata": {
        "id": "interim-elimination"
      },
      "source": [
        "#### **Dados Numéricos**"
      ],
      "id": "interim-elimination"
    },
    {
      "cell_type": "code",
      "metadata": {
        "id": "about-membrane"
      },
      "source": [
        ""
      ],
      "id": "about-membrane",
      "execution_count": null,
      "outputs": []
    },
    {
      "cell_type": "code",
      "metadata": {
        "id": "expired-thumbnail"
      },
      "source": [
        ""
      ],
      "id": "expired-thumbnail",
      "execution_count": null,
      "outputs": []
    },
    {
      "cell_type": "markdown",
      "metadata": {
        "id": "operating-library"
      },
      "source": [
        "<br/>\n",
        "\n",
        "Note que temos vários valores ***null*** agora **após a *conversão de tipos***. Vamos checá-los com mais cuidado nos dados originais e preprocessados."
      ],
      "id": "operating-library"
    },
    {
      "cell_type": "markdown",
      "metadata": {
        "id": "excess-smith"
      },
      "source": [
        "### 2.3 Limpeza de dados"
      ],
      "id": "excess-smith"
    },
    {
      "cell_type": "code",
      "metadata": {
        "id": "turkish-borough"
      },
      "source": [
        ""
      ],
      "id": "turkish-borough",
      "execution_count": null,
      "outputs": []
    },
    {
      "cell_type": "code",
      "metadata": {
        "id": "rapid-ceremony"
      },
      "source": [
        ""
      ],
      "id": "rapid-ceremony",
      "execution_count": null,
      "outputs": []
    },
    {
      "cell_type": "code",
      "metadata": {
        "id": "residential-wallet"
      },
      "source": [
        ""
      ],
      "id": "residential-wallet",
      "execution_count": null,
      "outputs": []
    },
    {
      "cell_type": "markdown",
      "metadata": {
        "id": "general-found"
      },
      "source": [
        "Várias amostras possuem a _string '-'_ em algumas colunas ao invés de um número de fato. Ou seja, não há aferições destes atributos para estas amostras. <br/>\n",
        "\n",
        "<br/>\n",
        "\n",
        "Poderíamos **preencher os valores NaN com um valor padrão**. Para isso, basta usar o método `.fillna`."
      ],
      "id": "general-found"
    },
    {
      "cell_type": "code",
      "metadata": {
        "id": "standing-significance"
      },
      "source": [
        ""
      ],
      "id": "standing-significance",
      "execution_count": null,
      "outputs": []
    },
    {
      "cell_type": "code",
      "metadata": {
        "id": "fourth-smoke"
      },
      "source": [
        ""
      ],
      "id": "fourth-smoke",
      "execution_count": null,
      "outputs": []
    },
    {
      "cell_type": "code",
      "metadata": {
        "id": "specific-wings"
      },
      "source": [
        ""
      ],
      "id": "specific-wings",
      "execution_count": null,
      "outputs": []
    },
    {
      "cell_type": "code",
      "metadata": {
        "id": "hispanic-message"
      },
      "source": [
        ""
      ],
      "id": "hispanic-message",
      "execution_count": null,
      "outputs": []
    },
    {
      "cell_type": "code",
      "metadata": {
        "id": "bulgarian-alabama"
      },
      "source": [
        ""
      ],
      "id": "bulgarian-alabama",
      "execution_count": null,
      "outputs": []
    },
    {
      "cell_type": "markdown",
      "metadata": {
        "id": "altered-compatibility"
      },
      "source": [
        "<br/>\n",
        "\n",
        "Por mais que a função `fillna` seja interessante e útil em muitos casos, no problema em questão estamos interessados em analisar precisamente, p. ex., o **'PREÇO MÉDIO DISTRIBUIÇÃO'**.<br/>\n",
        "A fim de não termos valores _sintéticos_ gerados pelo `fillna`, que possam atrapalhar nossa análise, iremos **remover (drop) todas as amostras que possuem qualquer valor NaN** para quaisquer atributos/colunas. <br/>\n",
        "\n",
        "Para isso, basta utilizarmos o método `dropna`."
      ],
      "id": "altered-compatibility"
    },
    {
      "cell_type": "code",
      "metadata": {
        "id": "inclusive-shopper"
      },
      "source": [
        ""
      ],
      "id": "inclusive-shopper",
      "execution_count": null,
      "outputs": []
    },
    {
      "cell_type": "code",
      "metadata": {
        "id": "superb-french"
      },
      "source": [
        ""
      ],
      "id": "superb-french",
      "execution_count": null,
      "outputs": []
    },
    {
      "cell_type": "markdown",
      "metadata": {
        "id": "bearing-peter"
      },
      "source": [
        "Nosso data frame agora, após essa _limpeza_, ficou mais enxuto, contentdo 103392 registros frente aos 106823 registros originais. <br/>\n",
        "\n",
        "Essas são apenas algumas das possíveis _técnicas de limpeza de dados_. Outras estratégias, p. ex., **confiam na detecção de outliers**, que não veremos neste curso."
      ],
      "id": "bearing-peter"
    },
    {
      "cell_type": "markdown",
      "metadata": {
        "id": "bound-laser"
      },
      "source": [
        "#### **Salvando o Dataset Preprocessado**"
      ],
      "id": "bound-laser"
    },
    {
      "cell_type": "code",
      "metadata": {
        "id": "hungarian-fantasy"
      },
      "source": [
        ""
      ],
      "id": "hungarian-fantasy",
      "execution_count": null,
      "outputs": []
    },
    {
      "cell_type": "markdown",
      "metadata": {
        "id": "stock-cover"
      },
      "source": [
        "<h2>3. Estatísticas Descritivas</h2>\n",
        "<hr/>"
      ],
      "id": "stock-cover"
    },
    {
      "cell_type": "markdown",
      "metadata": {
        "id": "removed-republic"
      },
      "source": [
        "O Pandas fornecem algumas funções/métodos ue computam certas estatísticas descritivas."
      ],
      "id": "removed-republic"
    },
    {
      "cell_type": "markdown",
      "metadata": {
        "id": "contrary-heritage"
      },
      "source": [
        "`describe`: exibe várias **estatísticas descritivas** para os _atributos_ de um dataframe ou para uma _Series_."
      ],
      "id": "contrary-heritage"
    },
    {
      "cell_type": "code",
      "metadata": {
        "id": "nasty-smart"
      },
      "source": [
        ""
      ],
      "id": "nasty-smart",
      "execution_count": null,
      "outputs": []
    },
    {
      "cell_type": "code",
      "metadata": {
        "id": "second-approach"
      },
      "source": [
        ""
      ],
      "id": "second-approach",
      "execution_count": null,
      "outputs": []
    },
    {
      "cell_type": "markdown",
      "metadata": {
        "id": "straight-hamburg"
      },
      "source": [
        "<br/>\n",
        "\n",
        "Como o resultado do `describe` de um _dataframe_ é outro _dataframe_, podemos filtrar apenas algumas colunas."
      ],
      "id": "straight-hamburg"
    },
    {
      "cell_type": "code",
      "metadata": {
        "id": "complete-calvin"
      },
      "source": [
        ""
      ],
      "id": "complete-calvin",
      "execution_count": null,
      "outputs": []
    },
    {
      "cell_type": "code",
      "metadata": {
        "id": "varying-integrity"
      },
      "source": [
        ""
      ],
      "id": "varying-integrity",
      "execution_count": null,
      "outputs": []
    },
    {
      "cell_type": "code",
      "metadata": {
        "id": "sensitive-ocean"
      },
      "source": [
        ""
      ],
      "id": "sensitive-ocean",
      "execution_count": null,
      "outputs": []
    },
    {
      "cell_type": "markdown",
      "metadata": {
        "id": "innocent-democrat"
      },
      "source": [
        "**Acessando apenas algumas estatísticas**"
      ],
      "id": "innocent-democrat"
    },
    {
      "cell_type": "code",
      "metadata": {
        "id": "single-playlist"
      },
      "source": [
        ""
      ],
      "id": "single-playlist",
      "execution_count": null,
      "outputs": []
    },
    {
      "cell_type": "code",
      "metadata": {
        "id": "cardiovascular-technology"
      },
      "source": [
        ""
      ],
      "id": "cardiovascular-technology",
      "execution_count": null,
      "outputs": []
    },
    {
      "cell_type": "markdown",
      "metadata": {
        "id": "built-congo"
      },
      "source": [
        "<br/>\n",
        "\n",
        "`mean`, `std`, `min`, etc: cada uma das estatísticas do `describe` podem ser computadas individualmente:"
      ],
      "id": "built-congo"
    },
    {
      "cell_type": "code",
      "metadata": {
        "id": "forty-function"
      },
      "source": [
        ""
      ],
      "id": "forty-function",
      "execution_count": null,
      "outputs": []
    },
    {
      "cell_type": "markdown",
      "metadata": {
        "id": "employed-teach"
      },
      "source": [
        "#### Qual é o menor preço mínimo de revenda?"
      ],
      "id": "employed-teach"
    },
    {
      "cell_type": "code",
      "metadata": {
        "id": "broken-genius"
      },
      "source": [
        ""
      ],
      "id": "broken-genius",
      "execution_count": null,
      "outputs": []
    },
    {
      "cell_type": "markdown",
      "metadata": {
        "id": "normal-claim"
      },
      "source": [
        "#### Qual é a média e desvio padrão dos preços mínimos de revenda?"
      ],
      "id": "normal-claim"
    },
    {
      "cell_type": "code",
      "metadata": {
        "id": "successful-release"
      },
      "source": [
        ""
      ],
      "id": "successful-release",
      "execution_count": null,
      "outputs": []
    },
    {
      "cell_type": "markdown",
      "metadata": {
        "id": "qualified-family"
      },
      "source": [
        "#### Quais são os estados considerados?"
      ],
      "id": "qualified-family"
    },
    {
      "cell_type": "code",
      "metadata": {
        "id": "exciting-assembly"
      },
      "source": [
        ""
      ],
      "id": "exciting-assembly",
      "execution_count": null,
      "outputs": []
    },
    {
      "cell_type": "code",
      "metadata": {
        "id": "maritime-generic"
      },
      "source": [
        ""
      ],
      "id": "maritime-generic",
      "execution_count": null,
      "outputs": []
    },
    {
      "cell_type": "markdown",
      "metadata": {
        "id": "occasional-mistake"
      },
      "source": [
        "#### Quantos registros (aferições) cada estado possui?"
      ],
      "id": "occasional-mistake"
    },
    {
      "cell_type": "markdown",
      "metadata": {
        "id": "seven-atmosphere"
      },
      "source": [
        "`.value_counts()`:  Conta a frequência dos valores de uma dada variável (de preferência, _categórica_)."
      ],
      "id": "seven-atmosphere"
    },
    {
      "cell_type": "code",
      "metadata": {
        "id": "adaptive-thumb"
      },
      "source": [
        ""
      ],
      "id": "adaptive-thumb",
      "execution_count": null,
      "outputs": []
    },
    {
      "cell_type": "code",
      "metadata": {
        "id": "perfect-invasion"
      },
      "source": [
        ""
      ],
      "id": "perfect-invasion",
      "execution_count": null,
      "outputs": []
    },
    {
      "cell_type": "markdown",
      "metadata": {
        "id": "ongoing-packaging"
      },
      "source": [
        "<h2>4. Executando funções para cada item de um DataFrame ou Series</h2>\n",
        "<hr/>"
      ],
      "id": "ongoing-packaging"
    },
    {
      "cell_type": "markdown",
      "metadata": {
        "id": "necessary-start"
      },
      "source": [
        "Uma alternativa ao `for-loop` que vimos anteriormente e que é _lento_, é usarmos _funções próprias do pandas_ que **aplicam/mapeiam uma dada função a todos os elementos de um DataFrame ou Series**, retornando novos elementos \"transformados\".\n"
      ],
      "id": "necessary-start"
    },
    {
      "cell_type": "markdown",
      "metadata": {
        "id": "dutch-yugoslavia"
      },
      "source": [
        "<img src='https://github.com/clueders/IFSP-CMP-D1AED-2021.1/blob/main/manipulacao_de_dados/imagens/apply_map_applymap.png?raw=1' width=300/>\n",
        "\n",
        "\n",
        "Fonte: https://towardsdatascience.com/introduction-to-pandas-apply-applymap-and-map-5d3e044e93ff"
      ],
      "id": "dutch-yugoslavia"
    },
    {
      "cell_type": "code",
      "metadata": {
        "id": "comparative-mexican"
      },
      "source": [
        "df = pd.DataFrame({ 'A': [1, 2, 3, 4], \n",
        "                    'B': [10, 20, 30, 40],\n",
        "                    'C': [100, 200, 300, 400]}, \n",
        "                     index=['Linha 1', 'Linha 2', 'Linha 3', 'Linha 4'])"
      ],
      "id": "comparative-mexican",
      "execution_count": null,
      "outputs": []
    },
    {
      "cell_type": "code",
      "metadata": {
        "id": "spiritual-boutique"
      },
      "source": [
        "df"
      ],
      "id": "spiritual-boutique",
      "execution_count": null,
      "outputs": []
    },
    {
      "cell_type": "markdown",
      "metadata": {
        "id": "absent-salmon"
      },
      "source": [
        "`apply()`: usado para aplicar uma função ao longo de um eixo de um DataFrame ou em valores de uma Series."
      ],
      "id": "absent-salmon"
    },
    {
      "cell_type": "markdown",
      "metadata": {
        "id": "authorized-documentation"
      },
      "source": [
        "<img src='https://github.com/clueders/IFSP-CMP-D1AED-2021.1/blob/main/manipulacao_de_dados/imagens/pandas_axis.jpg?raw=1' width=500/>\n",
        "\n",
        "Fonte: https://www.allthesnippets.com/browse/pandas/df_axis.html"
      ],
      "id": "authorized-documentation"
    },
    {
      "cell_type": "code",
      "metadata": {
        "id": "chronic-behavior"
      },
      "source": [
        ""
      ],
      "id": "chronic-behavior",
      "execution_count": null,
      "outputs": []
    },
    {
      "cell_type": "code",
      "metadata": {
        "id": "dangerous-adult"
      },
      "source": [
        ""
      ],
      "id": "dangerous-adult",
      "execution_count": null,
      "outputs": []
    },
    {
      "cell_type": "markdown",
      "metadata": {
        "id": "following-tuner"
      },
      "source": [
        "<img src='https://github.com/clueders/IFSP-CMP-D1AED-2021.1/blob/main/manipulacao_de_dados/imagens/apply_axis_1.png?raw=1' width=250/>"
      ],
      "id": "following-tuner"
    },
    {
      "cell_type": "code",
      "metadata": {
        "id": "economic-conviction"
      },
      "source": [
        ""
      ],
      "id": "economic-conviction",
      "execution_count": null,
      "outputs": []
    },
    {
      "cell_type": "markdown",
      "metadata": {
        "id": "psychological-acrobat"
      },
      "source": [
        "<img src='https://github.com/clueders/IFSP-CMP-D1AED-2021.1/blob/main/manipulacao_de_dados/imagens/apply_axis_0.png?raw=1' width=250/>"
      ],
      "id": "psychological-acrobat"
    },
    {
      "cell_type": "markdown",
      "metadata": {
        "id": "pursuant-metallic"
      },
      "source": [
        "##### Usando `lambda` functions"
      ],
      "id": "pursuant-metallic"
    },
    {
      "cell_type": "code",
      "metadata": {
        "id": "composed-summit"
      },
      "source": [
        ""
      ],
      "id": "composed-summit",
      "execution_count": null,
      "outputs": []
    },
    {
      "cell_type": "code",
      "metadata": {
        "id": "modified-timer"
      },
      "source": [
        ""
      ],
      "id": "modified-timer",
      "execution_count": null,
      "outputs": []
    },
    {
      "cell_type": "markdown",
      "metadata": {
        "id": "expensive-thunder"
      },
      "source": [
        "<img src='https://github.com/clueders/IFSP-CMP-D1AED-2021.1/blob/main/manipulacao_de_dados/imagens/apply_axis_1_mean.png?raw=1' width=350/>"
      ],
      "id": "expensive-thunder"
    },
    {
      "cell_type": "code",
      "metadata": {
        "id": "included-realtor"
      },
      "source": [
        ""
      ],
      "id": "included-realtor",
      "execution_count": null,
      "outputs": []
    },
    {
      "cell_type": "markdown",
      "metadata": {
        "id": "respective-broadcasting"
      },
      "source": [
        "<br/>\n",
        "\n",
        "`applymap()`: usado para aplicar uma função para **cada elemento** (_element-wise_) de um DataFrame."
      ],
      "id": "respective-broadcasting"
    },
    {
      "cell_type": "code",
      "metadata": {
        "id": "hourly-affairs"
      },
      "source": [
        "df = pd.DataFrame({ 'A': [1, 2, 3, 4], \n",
        "                    'B': [10, 20, 30, 40],\n",
        "                    'C': [100, 200, 300, 400]}, \n",
        "                     index=['Linha 1', 'Linha 2', 'Linha 3', 'Linha 4'])\n",
        "df"
      ],
      "id": "hourly-affairs",
      "execution_count": null,
      "outputs": []
    },
    {
      "cell_type": "code",
      "metadata": {
        "id": "strong-subcommittee"
      },
      "source": [
        ""
      ],
      "id": "strong-subcommittee",
      "execution_count": null,
      "outputs": []
    },
    {
      "cell_type": "markdown",
      "metadata": {
        "id": "close-female"
      },
      "source": [
        "<br/>\n",
        "\n",
        "`map()`: usado para aplicar uma função para **cada elemento** (_element-wise_) de uma _Series_."
      ],
      "id": "close-female"
    },
    {
      "cell_type": "code",
      "metadata": {
        "id": "unknown-mining"
      },
      "source": [
        ""
      ],
      "id": "unknown-mining",
      "execution_count": null,
      "outputs": []
    },
    {
      "cell_type": "code",
      "metadata": {
        "id": "exceptional-financing"
      },
      "source": [
        ""
      ],
      "id": "exceptional-financing",
      "execution_count": null,
      "outputs": []
    },
    {
      "cell_type": "code",
      "metadata": {
        "id": "velvet-moment"
      },
      "source": [
        ""
      ],
      "id": "velvet-moment",
      "execution_count": null,
      "outputs": []
    },
    {
      "cell_type": "code",
      "metadata": {
        "id": "detected-tanzania"
      },
      "source": [
        ""
      ],
      "id": "detected-tanzania",
      "execution_count": null,
      "outputs": []
    },
    {
      "cell_type": "markdown",
      "metadata": {
        "id": "increasing-intersection"
      },
      "source": [
        "<h2>5. Agrupamento</h2>\n",
        "<hr/>"
      ],
      "id": "increasing-intersection"
    },
    {
      "cell_type": "markdown",
      "metadata": {
        "id": "played-windsor"
      },
      "source": [
        "`groupby`: Usado para criar **grupo de elementos** (e.x., baseado nos valores de um atributo). <br/>\n",
        "**Funções** podem então ser aplicadas para os _elementos de cada grupo_, de modo que os **resultados de cada grupo são combinados**."
      ],
      "id": "played-windsor"
    },
    {
      "cell_type": "code",
      "metadata": {
        "id": "expensive-field"
      },
      "source": [
        ""
      ],
      "id": "expensive-field",
      "execution_count": null,
      "outputs": []
    },
    {
      "cell_type": "code",
      "metadata": {
        "id": "standard-finish"
      },
      "source": [
        ""
      ],
      "id": "standard-finish",
      "execution_count": null,
      "outputs": []
    },
    {
      "cell_type": "code",
      "metadata": {
        "id": "failing-blackjack"
      },
      "source": [
        ""
      ],
      "id": "failing-blackjack",
      "execution_count": null,
      "outputs": []
    },
    {
      "cell_type": "code",
      "metadata": {
        "id": "filled-encoding"
      },
      "source": [
        ""
      ],
      "id": "filled-encoding",
      "execution_count": null,
      "outputs": []
    },
    {
      "cell_type": "markdown",
      "metadata": {
        "id": "charged-money"
      },
      "source": [
        "<br/>\n",
        "\n",
        "Também podemos ter agrupamentos por mais de um atributo."
      ],
      "id": "charged-money"
    },
    {
      "cell_type": "code",
      "metadata": {
        "id": "legitimate-webster"
      },
      "source": [
        ""
      ],
      "id": "legitimate-webster",
      "execution_count": null,
      "outputs": []
    },
    {
      "cell_type": "code",
      "metadata": {
        "id": "nuclear-quarter"
      },
      "source": [
        ""
      ],
      "id": "nuclear-quarter",
      "execution_count": null,
      "outputs": []
    },
    {
      "cell_type": "code",
      "metadata": {
        "id": "future-tonight"
      },
      "source": [
        ""
      ],
      "id": "future-tonight",
      "execution_count": null,
      "outputs": []
    },
    {
      "cell_type": "code",
      "metadata": {
        "id": "guided-sleeping"
      },
      "source": [
        ""
      ],
      "id": "guided-sleeping",
      "execution_count": null,
      "outputs": []
    },
    {
      "cell_type": "code",
      "metadata": {
        "id": "assumed-detector"
      },
      "source": [
        ""
      ],
      "id": "assumed-detector",
      "execution_count": null,
      "outputs": []
    },
    {
      "cell_type": "markdown",
      "metadata": {
        "id": "sonic-running"
      },
      "source": [
        "<br/>\n",
        "\n",
        "`.agg`: **agrega (roda)** uma série de funções para os elementos de um dataframe ou de grupos de um dataframe."
      ],
      "id": "sonic-running"
    },
    {
      "cell_type": "code",
      "metadata": {
        "id": "challenging-stanford"
      },
      "source": [
        "df = pd.DataFrame([[1, 2, 3],\n",
        "                   [4, 5, 6],\n",
        "                   [7, 8, 9],\n",
        "                   [np.nan, np.nan, np.nan]],\n",
        "                  columns=['A', 'B', 'C'])\n",
        "df"
      ],
      "id": "challenging-stanford",
      "execution_count": null,
      "outputs": []
    },
    {
      "cell_type": "code",
      "metadata": {
        "id": "critical-analyst"
      },
      "source": [
        ""
      ],
      "id": "critical-analyst",
      "execution_count": null,
      "outputs": []
    },
    {
      "cell_type": "code",
      "metadata": {
        "id": "wrong-handy"
      },
      "source": [
        ""
      ],
      "id": "wrong-handy",
      "execution_count": null,
      "outputs": []
    },
    {
      "cell_type": "markdown",
      "metadata": {
        "id": "grave-massage"
      },
      "source": [
        "<h2>6. Ordenação</h2>\n",
        "<hr/>"
      ],
      "id": "grave-massage"
    },
    {
      "cell_type": "code",
      "metadata": {
        "id": "increasing-delicious"
      },
      "source": [
        "notas = pd.DataFrame({\n",
        "    'nome': ['João', 'Maria', 'José', 'Alice'],\n",
        "    'idade': [20, 21, 19, 20],\n",
        "    'nota_final': [5.0, 10.0, 6.0, 10.0]\n",
        "})\n",
        "notas"
      ],
      "id": "increasing-delicious",
      "execution_count": null,
      "outputs": []
    },
    {
      "cell_type": "markdown",
      "metadata": {
        "id": "harmful-director"
      },
      "source": [
        "`.sort_values()`: ordena valores ao longo de um eixo."
      ],
      "id": "harmful-director"
    },
    {
      "cell_type": "code",
      "metadata": {
        "id": "whole-allowance"
      },
      "source": [
        ""
      ],
      "id": "whole-allowance",
      "execution_count": null,
      "outputs": []
    },
    {
      "cell_type": "markdown",
      "metadata": {
        "id": "american-blues"
      },
      "source": [
        "Por padrão, o método retorna uma cópia dos dados ordenados em **ordem crescente (ascendente)**. Podemos alterar isso pelo argumento `ascending`."
      ],
      "id": "american-blues"
    },
    {
      "cell_type": "code",
      "metadata": {
        "id": "comparative-burke"
      },
      "source": [
        ""
      ],
      "id": "comparative-burke",
      "execution_count": null,
      "outputs": []
    },
    {
      "cell_type": "markdown",
      "metadata": {
        "id": "previous-polls"
      },
      "source": [
        "<br/>\n",
        "\n",
        "Podemos ordenar a partir de **mais de uma coluna**:"
      ],
      "id": "previous-polls"
    },
    {
      "cell_type": "code",
      "metadata": {
        "id": "derived-saying"
      },
      "source": [
        ""
      ],
      "id": "derived-saying",
      "execution_count": null,
      "outputs": []
    },
    {
      "cell_type": "markdown",
      "metadata": {
        "id": "experienced-husband"
      },
      "source": [
        "Ordena os registros, primeiramente, pela coluna 'nota_final' em **ordem descrente**. <br/>\n",
        "Então, reordena os registros _\"empatados\"_, ou seja, com a **mesma nota final**, em _ordem alfabética_ (ordem crescente)."
      ],
      "id": "experienced-husband"
    },
    {
      "cell_type": "markdown",
      "metadata": {
        "id": "original-december"
      },
      "source": [
        "<br/>\n",
        "\n",
        "Note que o dataframe original **não foi alterado** após a ordenação."
      ],
      "id": "original-december"
    },
    {
      "cell_type": "code",
      "metadata": {
        "id": "numeric-vietnam"
      },
      "source": [
        ""
      ],
      "id": "numeric-vietnam",
      "execution_count": null,
      "outputs": []
    },
    {
      "cell_type": "markdown",
      "metadata": {
        "id": "focal-compact"
      },
      "source": [
        "Para alterá-lo, use o argumento `inplace=True`:"
      ],
      "id": "focal-compact"
    },
    {
      "cell_type": "code",
      "metadata": {
        "id": "advanced-aberdeen"
      },
      "source": [
        ""
      ],
      "id": "advanced-aberdeen",
      "execution_count": null,
      "outputs": []
    },
    {
      "cell_type": "code",
      "metadata": {
        "id": "announced-genetics"
      },
      "source": [
        ""
      ],
      "id": "announced-genetics",
      "execution_count": null,
      "outputs": []
    },
    {
      "cell_type": "markdown",
      "metadata": {
        "id": "functional-clark"
      },
      "source": [
        "<h2>7. Exercícios</h2>\n",
        "<hr/>"
      ],
      "id": "functional-clark"
    },
    {
      "cell_type": "markdown",
      "metadata": {
        "id": "democratic-commonwealth"
      },
      "source": [
        "Vamos aplicar os conceitos que vimos em alguns exercícios. <br/>\n",
        "Para isso, utilizaremos o dataset de _preços de combustíveis no Brasil_.\n",
        "\n",
        "Como há apenas medições de janeiro a junho para o ano de 2019, resolvemos **remover os dados** deste ano da análise."
      ],
      "id": "democratic-commonwealth"
    },
    {
      "cell_type": "code",
      "metadata": {
        "id": "cardiovascular-daily"
      },
      "source": [
        ""
      ],
      "id": "cardiovascular-daily",
      "execution_count": null,
      "outputs": []
    },
    {
      "cell_type": "markdown",
      "metadata": {
        "id": "mexican-guinea"
      },
      "source": [
        "Note que temos um novo dataframe com 99739 linhas, mas com índices fora desse intervalo. <br/>\n",
        "Acontece que os registros mantiveram seus índices originais após a query. <br/>\n",
        "\n",
        "Para resetar os índices de _0 a num_linhas-1_, basta usarmos o método `.reset_index()`. "
      ],
      "id": "mexican-guinea"
    },
    {
      "cell_type": "code",
      "metadata": {
        "id": "combined-release"
      },
      "source": [
        ""
      ],
      "id": "combined-release",
      "execution_count": null,
      "outputs": []
    },
    {
      "cell_type": "markdown",
      "metadata": {
        "id": "transparent-cannon"
      },
      "source": [
        "Os índices agora foram **resetados**. Porém, os índices antigos se transformaram em _uma nova coluna_ chamada 'index'. <br/>\n",
        "Para removê-la durante o _reset_, basta passarmos o argumento `drop=True`."
      ],
      "id": "transparent-cannon"
    },
    {
      "cell_type": "code",
      "metadata": {
        "id": "registered-walnut"
      },
      "source": [
        ""
      ],
      "id": "registered-walnut",
      "execution_count": null,
      "outputs": []
    },
    {
      "cell_type": "code",
      "metadata": {
        "id": "jewish-cancer"
      },
      "source": [
        ""
      ],
      "id": "jewish-cancer",
      "execution_count": null,
      "outputs": []
    },
    {
      "cell_type": "markdown",
      "metadata": {
        "id": "worth-running"
      },
      "source": [
        "### 7.1 Qual a proporção de postos pesquisados para cada combustível em cada região"
      ],
      "id": "worth-running"
    },
    {
      "cell_type": "code",
      "metadata": {
        "id": "corrected-major"
      },
      "source": [
        ""
      ],
      "id": "corrected-major",
      "execution_count": null,
      "outputs": []
    },
    {
      "cell_type": "code",
      "metadata": {
        "id": "returning-premium"
      },
      "source": [
        ""
      ],
      "id": "returning-premium",
      "execution_count": null,
      "outputs": []
    },
    {
      "cell_type": "markdown",
      "metadata": {
        "id": "improving-corporation"
      },
      "source": [
        "### 7.2 Como os preços da Gasolina Comum em São Paulo variaram em 2018?"
      ],
      "id": "improving-corporation"
    },
    {
      "cell_type": "code",
      "metadata": {
        "id": "damaged-horse"
      },
      "source": [
        ""
      ],
      "id": "damaged-horse",
      "execution_count": null,
      "outputs": []
    },
    {
      "cell_type": "code",
      "metadata": {
        "id": "complicated-louis"
      },
      "source": [
        ""
      ],
      "id": "complicated-louis",
      "execution_count": null,
      "outputs": []
    },
    {
      "cell_type": "markdown",
      "metadata": {
        "id": "ecological-pavilion"
      },
      "source": [
        "#### **Estatísticas Descritivas**"
      ],
      "id": "ecological-pavilion"
    },
    {
      "cell_type": "code",
      "metadata": {
        "id": "scientific-acrylic"
      },
      "source": [
        ""
      ],
      "id": "scientific-acrylic",
      "execution_count": null,
      "outputs": []
    },
    {
      "cell_type": "code",
      "metadata": {
        "id": "touched-irrigation"
      },
      "source": [
        ""
      ],
      "id": "touched-irrigation",
      "execution_count": null,
      "outputs": []
    },
    {
      "cell_type": "markdown",
      "metadata": {
        "id": "freelance-python"
      },
      "source": [
        "### 7.3 Como os preços da Gasolina Comum e do Etanol em São Paulo variaram em 2018?"
      ],
      "id": "freelance-python"
    },
    {
      "cell_type": "code",
      "metadata": {
        "id": "diagnostic-replacement"
      },
      "source": [
        ""
      ],
      "id": "diagnostic-replacement",
      "execution_count": null,
      "outputs": []
    },
    {
      "cell_type": "code",
      "metadata": {
        "id": "necessary-absolute"
      },
      "source": [
        ""
      ],
      "id": "necessary-absolute",
      "execution_count": null,
      "outputs": []
    },
    {
      "cell_type": "code",
      "metadata": {
        "id": "selected-confidentiality"
      },
      "source": [
        ""
      ],
      "id": "selected-confidentiality",
      "execution_count": null,
      "outputs": []
    },
    {
      "cell_type": "code",
      "metadata": {
        "id": "minute-september"
      },
      "source": [
        ""
      ],
      "id": "minute-september",
      "execution_count": null,
      "outputs": []
    },
    {
      "cell_type": "code",
      "metadata": {
        "id": "phantom-environment"
      },
      "source": [
        ""
      ],
      "id": "phantom-environment",
      "execution_count": null,
      "outputs": []
    },
    {
      "cell_type": "markdown",
      "metadata": {
        "id": "phantom-focus"
      },
      "source": [
        "<h2>8. Assuntos para continuar os estudos</h2>\n",
        "<hr/>\n",
        "\n",
        "- join\n",
        "- concat\n",
        "- plot\n",
        "- data cleaning"
      ],
      "id": "phantom-focus"
    }
  ]
}